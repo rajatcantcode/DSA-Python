{
 "cells": [
  {
   "cell_type": "code",
   "execution_count": 27,
   "metadata": {},
   "outputs": [
    {
     "name": "stdout",
     "output_type": "stream",
     "text": [
      "1\n"
     ]
    }
   ],
   "source": [
    "class Solution:\n",
    "    def mostFrequentElement(self, nums):\n",
    "        return self.result(nums)\n",
    "    \n",
    "    def result(self,nums):\n",
    "        arr = self.getFrequencyArray(nums)\n",
    "        max_count = 0\n",
    "        element = float(\"inf\") #infinity Number\n",
    "\n",
    "        for i in range(len(arr)):\n",
    "            if max_count < arr[i]:\n",
    "                max_count = arr[i]\n",
    "                element = i\n",
    "            # In my opinion, the 'elif' condition is not strictly necessary, but it does make sense.\n",
    "            # TODO: Find a test case to demonstrate that the 'elif' condition is required.\n",
    "            elif arr[i] == max_count:\n",
    "                element = min(element,i)\n",
    "\n",
    "        return element\n",
    "            \n",
    "    def getFrequencyArray(self,nums):\n",
    "        biggestNum = self.biggestNum(nums)\n",
    "        biggestNum += 1\n",
    "        newArray = [0]*biggestNum\n",
    "        for i in range(len(nums)):\n",
    "            newArray[nums[i]]+=1\n",
    "        return newArray\n",
    "        \n",
    "        \n",
    "    def biggestNum(self,nums):\n",
    "        x = 0\n",
    "        for i in range(len(nums)):\n",
    "            if nums[i] > x:\n",
    "                x = nums[i]\n",
    "        return x\n",
    "    \n",
    "# Example usage\n",
    "if __name__ == \"__main__\":\n",
    "    arr = [1, 2, 2, 3, 3, 1,4,4]\n",
    "    sol = Solution()\n",
    "    result = sol.mostFrequentElement(arr)\n",
    "    print(result)"
   ]
  }
 ],
 "metadata": {
  "kernelspec": {
   "display_name": "venv",
   "language": "python",
   "name": "python3"
  },
  "language_info": {
   "codemirror_mode": {
    "name": "ipython",
    "version": 3
   },
   "file_extension": ".py",
   "mimetype": "text/x-python",
   "name": "python",
   "nbconvert_exporter": "python",
   "pygments_lexer": "ipython3",
   "version": "3.11.7"
  }
 },
 "nbformat": 4,
 "nbformat_minor": 2
}
