{
 "cells": [
  {
   "cell_type": "code",
   "execution_count": 17,
   "metadata": {},
   "outputs": [
    {
     "name": "stdout",
     "output_type": "stream",
     "text": [
      "4\n"
     ]
    }
   ],
   "source": [
    "class Solution:\n",
    "    def sumHighestAndLowestFrequency(self, nums):\n",
    "        return self.result(nums)\n",
    "    def result(self,nums):\n",
    "        freqArray = self.getFrequencyArray(nums)\n",
    "        lowest = self.lowestOccuringNum(freqArray)\n",
    "        highest = self.highestOccuringNum(freqArray)\n",
    "        sum = lowest + highest\n",
    "        return sum\n",
    "\n",
    "\n",
    "    def highestOccuringNum(self,nums):\n",
    "        x = -1\n",
    "        for i in range(len(nums)):\n",
    "            if x < nums[i]:\n",
    "                x = nums[i]\n",
    "        return x\n",
    "    def lowestOccuringNum(self,nums):\n",
    "        x = float(\"inf\")\n",
    "        for i in range(len(nums)):\n",
    "            if nums[i] != 0:\n",
    "                x = min(x,nums[i])\n",
    "        return x\n",
    "    def getFrequencyArray(self, nums):\n",
    "        size = self.biggestNum(nums)\n",
    "        size += 1 \n",
    "        newArray = [0]*size\n",
    "\n",
    "        for i in range(len(nums)):\n",
    "            newArray[nums[i]]+=1\n",
    "        return newArray\n",
    "\n",
    "\n",
    "    def biggestNum(self,nums):\n",
    "        x = -1\n",
    "        for i in range(len(nums)):\n",
    "            if x < nums[i]:\n",
    "                x = nums[i]\n",
    "        return x\n",
    "\n",
    "\n",
    "# Example usage\n",
    "if __name__ == \"__main__\":\n",
    "    arr = [1, 2, 2, 3, 3, 3]\n",
    "    sol = Solution()\n",
    "    result = sol.sumHighestAndLowestFrequency(arr)\n",
    "    print(result)  \n"
   ]
  }
 ],
 "metadata": {
  "kernelspec": {
   "display_name": "venv",
   "language": "python",
   "name": "python3"
  },
  "language_info": {
   "codemirror_mode": {
    "name": "ipython",
    "version": 3
   },
   "file_extension": ".py",
   "mimetype": "text/x-python",
   "name": "python",
   "nbconvert_exporter": "python",
   "pygments_lexer": "ipython3",
   "version": "3.11.7"
  }
 },
 "nbformat": 4,
 "nbformat_minor": 2
}
