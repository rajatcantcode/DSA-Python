{
 "cells": [
  {
   "cell_type": "code",
   "execution_count": 27,
   "metadata": {},
   "outputs": [
    {
     "name": "stdout",
     "output_type": "stream",
     "text": [
      "6\n"
     ]
    }
   ],
   "source": [
    "class Solution:\n",
    "    def secondMostFrequentElement(self, nums):\n",
    "        return self.result(nums)\n",
    "\n",
    "    def result(self, nums):\n",
    "        freqArr = self.getFrequencyArray(nums)\n",
    "        highestFreqElement = -1\n",
    "        max_freq = 0\n",
    "\n",
    "        secondHighestFreqElement = -1\n",
    "        second_max_freq = 0\n",
    "\n",
    "        for i in range(len(freqArr)):\n",
    "            # If we find a new highest frequency\n",
    "            if freqArr[i] > max_freq:\n",
    "                # Update second highest with the previous highest\n",
    "                second_max_freq = max_freq\n",
    "                secondHighestFreqElement = highestFreqElement\n",
    "\n",
    "                # Set the new highest frequency element\n",
    "                max_freq = freqArr[i]\n",
    "                highestFreqElement = i\n",
    "\n",
    "            # Handle tie in frequencies for the highest element\n",
    "            elif freqArr[i] == max_freq:\n",
    "                highestFreqElement = min(i, highestFreqElement)         \n",
    "\n",
    "            # Check for second-highest frequency\n",
    "            elif freqArr[i] > second_max_freq:\n",
    "                second_max_freq = freqArr[i]\n",
    "                secondHighestFreqElement = i\n",
    "                \n",
    "        return secondHighestFreqElement\n",
    "\n",
    "    def getFrequencyArray(self, nums):\n",
    "        biggestNum = self.biggestNum(nums)\n",
    "        biggestNum += 1\n",
    "        freqArr = [0] * biggestNum\n",
    "        for num in nums:\n",
    "            freqArr[num] += 1\n",
    "        return freqArr\n",
    "\n",
    "    def biggestNum(self, nums):\n",
    "        x = 0\n",
    "        for num in nums:\n",
    "            if num > x:\n",
    "                x = num\n",
    "        return x\n",
    "\n",
    "\n",
    "# Example usage\n",
    "if __name__ == \"__main__\":\n",
    "    arr = [4, 4, 5, 5, 6, 7]\n",
    "    sol = Solution()\n",
    "    result = sol.secondMostFrequentElement(arr)\n",
    "    print(result)  "
   ]
  }
 ],
 "metadata": {
  "kernelspec": {
   "display_name": "venv",
   "language": "python",
   "name": "python3"
  },
  "language_info": {
   "codemirror_mode": {
    "name": "ipython",
    "version": 3
   },
   "file_extension": ".py",
   "mimetype": "text/x-python",
   "name": "python",
   "nbconvert_exporter": "python",
   "pygments_lexer": "ipython3",
   "version": "3.11.7"
  }
 },
 "nbformat": 4,
 "nbformat_minor": 2
}
