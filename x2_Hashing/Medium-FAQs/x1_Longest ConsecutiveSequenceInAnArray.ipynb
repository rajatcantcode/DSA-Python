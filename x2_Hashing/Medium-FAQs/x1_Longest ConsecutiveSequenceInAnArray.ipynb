{
 "cells": [
  {
   "cell_type": "code",
   "execution_count": 22,
   "metadata": {},
   "outputs": [
    {
     "name": "stdout",
     "output_type": "stream",
     "text": [
      "[1, 2, 3, 4]\n"
     ]
    }
   ],
   "source": [
    "# Brute Force\n",
    "class Solution:\n",
    "    def longestConsecutive(self, nums):\n",
    "        return self.result(nums)\n",
    "    \n",
    "    def result(self, nums):\n",
    "        nums.sort() \n",
    "        ans = []\n",
    "\n",
    "        for i in range(len(nums) - 1):\n",
    "            if nums[i] + 1 == nums[i + 1]:  \n",
    "                ans.append(nums[i])\n",
    "    \n",
    "        if ans:\n",
    "            ans.append(ans[-1] + 1) \n",
    "    \n",
    "        return len(ans)\n",
    "\n",
    "                \n",
    "# Example usage\n",
    "if __name__ == \"__main__\":\n",
    "    arr = [100, 4, 200, 1, 3, 2]\n",
    "    sol = Solution()\n",
    "    result = sol.longestConsecutive(arr)\n",
    "    print(result)"
   ]
  }
 ],
 "metadata": {
  "kernelspec": {
   "display_name": "venv",
   "language": "python",
   "name": "python3"
  },
  "language_info": {
   "codemirror_mode": {
    "name": "ipython",
    "version": 3
   },
   "file_extension": ".py",
   "mimetype": "text/x-python",
   "name": "python",
   "nbconvert_exporter": "python",
   "pygments_lexer": "ipython3",
   "version": "3.11.7"
  }
 },
 "nbformat": 4,
 "nbformat_minor": 2
}
