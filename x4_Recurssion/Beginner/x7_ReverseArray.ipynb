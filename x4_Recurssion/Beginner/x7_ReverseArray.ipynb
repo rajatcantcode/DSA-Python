{
 "cells": [
  {
   "cell_type": "code",
   "execution_count": 3,
   "metadata": {},
   "outputs": [
    {
     "name": "stdout",
     "output_type": "stream",
     "text": [
      "[5, 4, 3, 2, 1]\n"
     ]
    }
   ],
   "source": [
    "class Solution:\n",
    "    def reverseArray(self, nums):\n",
    "        left = 0\n",
    "        right = len(nums) - 1\n",
    "        return self.result(nums,left,right)\n",
    "    \n",
    "    def result(self,nums,left,right):\n",
    "        if left > right:\n",
    "            return nums\n",
    "        temp = nums[left]\n",
    "        nums[left] = nums[right]\n",
    "        nums[right] = temp\n",
    "        return self.result(nums,left+1,right-1)\n",
    "        \n",
    "\n",
    "\n",
    "# Example usage\n",
    "if __name__ == \"__main__\":\n",
    "    nums =  [1, 2, 3, 4, 5]\n",
    "    sol = Solution()\n",
    "    result = sol.reverseArray(nums)\n",
    "    print(result)"
   ]
  }
 ],
 "metadata": {
  "kernelspec": {
   "display_name": "venv",
   "language": "python",
   "name": "python3"
  },
  "language_info": {
   "codemirror_mode": {
    "name": "ipython",
    "version": 3
   },
   "file_extension": ".py",
   "mimetype": "text/x-python",
   "name": "python",
   "nbconvert_exporter": "python",
   "pygments_lexer": "ipython3",
   "version": "3.11.7"
  }
 },
 "nbformat": 4,
 "nbformat_minor": 2
}
