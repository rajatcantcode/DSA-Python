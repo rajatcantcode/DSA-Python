{
 "cells": [
  {
   "cell_type": "code",
   "execution_count": 3,
   "metadata": {},
   "outputs": [
    {
     "name": "stdout",
     "output_type": "stream",
     "text": [
      "True\n"
     ]
    }
   ],
   "source": [
    "class Solution:    \n",
    "    def palindromeCheck(self, s):\n",
    "        left = 0\n",
    "        right = len(s)-1\n",
    "        return self.result(s,left,right)\n",
    "    \n",
    "    def result(self,s,left,right):\n",
    "        if left >= right:\n",
    "            return True\n",
    "        \n",
    "        if s[left] != s[right]:\n",
    "            return False\n",
    "        \n",
    "        return self.result(s,left+1,right-1)\n",
    "\n",
    "# Example usage\n",
    "if __name__ == \"__main__\":\n",
    "    arr = [\"h\",\"a\",\"n\",\"n\",\"a\",\"h\"]\n",
    "    sol = Solution()\n",
    "    result = sol.palindromeCheck(arr)\n",
    "    print(result)"
   ]
  }
 ],
 "metadata": {
  "kernelspec": {
   "display_name": "venv",
   "language": "python",
   "name": "python3"
  },
  "language_info": {
   "codemirror_mode": {
    "name": "ipython",
    "version": 3
   },
   "file_extension": ".py",
   "mimetype": "text/x-python",
   "name": "python",
   "nbconvert_exporter": "python",
   "pygments_lexer": "ipython3",
   "version": "3.11.7"
  }
 },
 "nbformat": 4,
 "nbformat_minor": 2
}
