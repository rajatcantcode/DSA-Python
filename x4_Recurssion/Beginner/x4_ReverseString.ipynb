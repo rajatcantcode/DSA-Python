{
 "cells": [
  {
   "cell_type": "code",
   "execution_count": 10,
   "metadata": {},
   "outputs": [
    {
     "name": "stdout",
     "output_type": "stream",
     "text": [
      "0 ['h']\n",
      "1 ['e', 'h']\n",
      "2 ['l', 'e', 'h']\n",
      "3 ['l', 'l', 'e', 'h']\n",
      "4 ['o', 'l', 'l', 'e', 'h']\n",
      "['o', 'l', 'l', 'e', 'h']\n"
     ]
    }
   ],
   "source": [
    "class Solution:\n",
    "    def reverseString(self,s):\n",
    "        newList = []\n",
    "        return self.result(s,0,newList)\n",
    "    def result(self,s,i,newList):\n",
    "        if i == len(s):\n",
    "            return newList\n",
    "        # Kaam\n",
    "        newList.insert(0,s[i])\n",
    "        return self.result(s,i+1,newList)\n",
    "\n",
    "# Example usage\n",
    "if __name__ == \"__main__\":\n",
    "    arr = [\"h\",\"e\",\"l\",\"l\",\"o\"]\n",
    "    sol = Solution()\n",
    "    result = sol.reverseString(arr)\n",
    "    print(result)"
   ]
  }
 ],
 "metadata": {
  "kernelspec": {
   "display_name": "venv",
   "language": "python",
   "name": "python3"
  },
  "language_info": {
   "codemirror_mode": {
    "name": "ipython",
    "version": 3
   },
   "file_extension": ".py",
   "mimetype": "text/x-python",
   "name": "python",
   "nbconvert_exporter": "python",
   "pygments_lexer": "ipython3",
   "version": "3.11.7"
  }
 },
 "nbformat": 4,
 "nbformat_minor": 2
}
