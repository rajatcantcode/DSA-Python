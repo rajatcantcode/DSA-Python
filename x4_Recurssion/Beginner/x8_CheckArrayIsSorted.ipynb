{
 "cells": [
  {
   "cell_type": "code",
   "execution_count": 4,
   "metadata": {},
   "outputs": [
    {
     "name": "stdout",
     "output_type": "stream",
     "text": [
      "False\n"
     ]
    }
   ],
   "source": [
    "class Solution:\n",
    "    def isSorted(self, nums):\n",
    "        return self.result(nums,0)\n",
    "    \n",
    "    def result(self,nums,i):\n",
    "        if i == len(nums)-1:\n",
    "            return True\n",
    "        if nums[i] > nums[i+1]:\n",
    "            return False\n",
    "        return self.result(nums,i+1)\n",
    "        \n",
    "\n",
    "# Example usage\n",
    "if __name__ == \"__main__\":\n",
    "    nums =  [1,9,6,8,5,4,0]\n",
    "    sol = Solution()\n",
    "    result = sol.isSorted(nums)\n",
    "    print(result)"
   ]
  }
 ],
 "metadata": {
  "kernelspec": {
   "display_name": "venv",
   "language": "python",
   "name": "python3"
  },
  "language_info": {
   "codemirror_mode": {
    "name": "ipython",
    "version": 3
   },
   "file_extension": ".py",
   "mimetype": "text/x-python",
   "name": "python",
   "nbconvert_exporter": "python",
   "pygments_lexer": "ipython3",
   "version": "3.11.7"
  }
 },
 "nbformat": 4,
 "nbformat_minor": 2
}
