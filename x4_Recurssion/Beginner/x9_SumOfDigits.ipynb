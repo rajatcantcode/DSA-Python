{
 "cells": [
  {
   "cell_type": "code",
   "execution_count": 5,
   "metadata": {},
   "outputs": [
    {
     "name": "stdout",
     "output_type": "stream",
     "text": [
      "8\n"
     ]
    }
   ],
   "source": [
    "class Solution:\n",
    "    def addDigits(self, num):\n",
    "        return self.result(num)\n",
    "    \n",
    "    def result(self,num):\n",
    "        if num < 10:\n",
    "            return num\n",
    "        sumOfDigits = self.sumOfDigits(num)\n",
    "        return self.result(sumOfDigits)\n",
    "    \n",
    "    def sumOfDigits(self, num):\n",
    "        if num == 0 :\n",
    "            return 0\n",
    "        \n",
    "        total = 0\n",
    "        while num > 0:\n",
    "            total += num % 10 \n",
    "            num = num // 10\n",
    "        return total\n",
    "\n",
    "\n",
    "# Example usage\n",
    "if __name__ == \"__main__\":\n",
    "    nums =  2123\n",
    "    sol = Solution()\n",
    "    result = sol.addDigits(nums)\n",
    "    print(result)"
   ]
  }
 ],
 "metadata": {
  "kernelspec": {
   "display_name": "venv",
   "language": "python",
   "name": "python3"
  },
  "language_info": {
   "codemirror_mode": {
    "name": "ipython",
    "version": 3
   },
   "file_extension": ".py",
   "mimetype": "text/x-python",
   "name": "python",
   "nbconvert_exporter": "python",
   "pygments_lexer": "ipython3",
   "version": "3.11.7"
  }
 },
 "nbformat": 4,
 "nbformat_minor": 2
}
