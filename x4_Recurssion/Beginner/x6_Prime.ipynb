{
 "cells": [
  {
   "cell_type": "code",
   "execution_count": 11,
   "metadata": {},
   "outputs": [
    {
     "name": "stdout",
     "output_type": "stream",
     "text": [
      "True\n"
     ]
    }
   ],
   "source": [
    "class Solution:\n",
    "    def checkPrime(self, num): \n",
    "        return self.result(num,2)\n",
    "    \n",
    "    def result(self,num,i):\n",
    "        if num // 2 < i:\n",
    "            return True\n",
    "        if num%i==0:\n",
    "            return False\n",
    "        return self.result(num,i+1)\n",
    "\n",
    "# Example usage\n",
    "if __name__ == \"__main__\":\n",
    "    n = 101\n",
    "    sol = Solution()\n",
    "    result = sol.checkPrime(n)\n",
    "    print(result)"
   ]
  }
 ],
 "metadata": {
  "kernelspec": {
   "display_name": "venv",
   "language": "python",
   "name": "python3"
  },
  "language_info": {
   "codemirror_mode": {
    "name": "ipython",
    "version": 3
   },
   "file_extension": ".py",
   "mimetype": "text/x-python",
   "name": "python",
   "nbconvert_exporter": "python",
   "pygments_lexer": "ipython3",
   "version": "3.11.7"
  }
 },
 "nbformat": 4,
 "nbformat_minor": 2
}
