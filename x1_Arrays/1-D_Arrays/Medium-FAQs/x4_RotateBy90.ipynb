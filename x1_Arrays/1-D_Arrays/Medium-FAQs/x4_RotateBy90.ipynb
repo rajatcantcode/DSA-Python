{
 "cells": [
  {
   "cell_type": "markdown",
   "metadata": {},
   "source": [
    "same question : x1_Arrays/2-D_Arrays/Beginner/x6_Rotate90.ipynb"
   ]
  },
  {
   "cell_type": "code",
   "execution_count": 1,
   "metadata": {},
   "outputs": [
    {
     "name": "stdout",
     "output_type": "stream",
     "text": [
      "[[7, 4, 1], [8, 5, 2], [9, 6, 3]]\n"
     ]
    }
   ],
   "source": [
    "class Solution:\n",
    "    def rotateMatrix(self, matrix):\n",
    "        return self.result(matrix)\n",
    "    \n",
    "    def result(self, matrix):\n",
    "        # Create an empty matrix to hold the rotated result\n",
    "        rotated_matrix = []\n",
    "        \n",
    "        # Iterate over the columns of the matrix\n",
    "        for col in range(len(matrix[0])):\n",
    "            new_row = []\n",
    "            # Iterate over the rows in reverse order to form the rotated row\n",
    "            for row in range(len(matrix)-1, -1, -1):\n",
    "                new_row.append(matrix[row][col])\n",
    "            rotated_matrix.append(new_row)\n",
    "        \n",
    "        return rotated_matrix\n",
    "    \n",
    "# Example usage\n",
    "if __name__ == \"__main__\":\n",
    "    arr = [\n",
    "        [1, 2, 3], \n",
    "        [4, 5, 6], \n",
    "        [7, 8, 9]\n",
    "    ]\n",
    "    sol = Solution()\n",
    "    result = sol.rotateMatrix(arr)\n",
    "    print(result)\n"
   ]
  }
 ],
 "metadata": {
  "kernelspec": {
   "display_name": "venv",
   "language": "python",
   "name": "python3"
  },
  "language_info": {
   "codemirror_mode": {
    "name": "ipython",
    "version": 3
   },
   "file_extension": ".py",
   "mimetype": "text/x-python",
   "name": "python",
   "nbconvert_exporter": "python",
   "pygments_lexer": "ipython3",
   "version": "3.11.7"
  }
 },
 "nbformat": 4,
 "nbformat_minor": 2
}
