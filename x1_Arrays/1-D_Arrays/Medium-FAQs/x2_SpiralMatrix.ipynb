{
 "cells": [
  {
   "cell_type": "markdown",
   "metadata": {},
   "source": [
    "same question : x1_Arrays/2-D_Arrays/Beginner/x4_SpiralMatrix.ipynb"
   ]
  },
  {
   "cell_type": "code",
   "execution_count": 2,
   "metadata": {},
   "outputs": [
    {
     "name": "stdout",
     "output_type": "stream",
     "text": [
      "[1, 2, 3, 6, 9, 8, 7, 4, 5]\n"
     ]
    }
   ],
   "source": [
    "class Solution:\n",
    "    def spiralOrder(self, matrix):\n",
    "        return self.result(matrix)\n",
    "    \n",
    "    def result(self, matrix):\n",
    "        minRow = 0\n",
    "        maxRow = len(matrix) - 1\n",
    "        minCol = 0\n",
    "        maxCol = len(matrix[0]) - 1\n",
    "\n",
    "        total = len(matrix) * len(matrix[0])\n",
    "        count = 0\n",
    "        result = []\n",
    "\n",
    "        while count < total:\n",
    "            # Traverse right (->)\n",
    "            for i in range(minCol, maxCol + 1):\n",
    "                if count < total:\n",
    "                    result.append(matrix[minRow][i])\n",
    "                    count += 1\n",
    "            minRow += 1\n",
    "\n",
    "            # Traverse down (⬇)\n",
    "            for i in range(minRow, maxRow + 1):\n",
    "                if count < total:\n",
    "                    result.append(matrix[i][maxCol])\n",
    "                    count += 1\n",
    "            maxCol -= 1\n",
    "\n",
    "            # Traverse left (⬅)\n",
    "            for i in range(maxCol, minCol - 1, -1):\n",
    "                if count < total:\n",
    "                    result.append(matrix[maxRow][i])\n",
    "                    count += 1\n",
    "            maxRow -= 1\n",
    "\n",
    "            # Traverse up (⬆)\n",
    "            for i in range(maxRow, minRow - 1, -1):\n",
    "                if count < total:\n",
    "                    result.append(matrix[i][minCol])\n",
    "                    count += 1\n",
    "            minCol += 1\n",
    "        \n",
    "        return result\n",
    "\n",
    "\n",
    "# Example usage\n",
    "if __name__ == \"__main__\":\n",
    "    arr =  [[1, 2, 3], \n",
    "            [4 ,5 ,6], \n",
    "            [7, 8, 9]]\n",
    "    sol = Solution()\n",
    "    result = sol.spiralOrder(arr)\n",
    "    print(result)"
   ]
  }
 ],
 "metadata": {
  "kernelspec": {
   "display_name": "venv",
   "language": "python",
   "name": "python3"
  },
  "language_info": {
   "codemirror_mode": {
    "name": "ipython",
    "version": 3
   },
   "file_extension": ".py",
   "mimetype": "text/x-python",
   "name": "python",
   "nbconvert_exporter": "python",
   "pygments_lexer": "ipython3",
   "version": "3.11.7"
  }
 },
 "nbformat": 4,
 "nbformat_minor": 2
}
