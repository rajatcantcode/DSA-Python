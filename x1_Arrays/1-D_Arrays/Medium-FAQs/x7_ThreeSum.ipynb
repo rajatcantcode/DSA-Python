{
 "cells": [
  {
   "cell_type": "code",
   "execution_count": 17,
   "metadata": {},
   "outputs": [
    {
     "name": "stdout",
     "output_type": "stream",
     "text": [
      "[[-1, -1, 2]]\n"
     ]
    }
   ],
   "source": [
    "# The two-pointer approach is applicable here because we only need to find the numbers, not their indices.\n",
    "class Solution:\n",
    "    def threeSum(self, nums):\n",
    "        return self.result(nums)\n",
    "    \n",
    "    def result(self,nums):\n",
    "        \n",
    "        nums.sort()\n",
    "        target = 0\n",
    "        ans = []\n",
    "        for k in range(len(nums)-2):\n",
    "            \n",
    "            # Skip duplicate values for k\n",
    "            if k > 0 and nums[k] == nums[k - 1]:  \n",
    "                continue\n",
    "            \n",
    "            i = k + 1\n",
    "            j = len(nums)-1\n",
    "            while i<j:\n",
    "                sum = nums[i] + nums[j] + nums[k]\n",
    "                if sum == target:\n",
    "                    \n",
    "                    ans.append([nums[k],nums[i],nums[j]])\n",
    "                    \n",
    "                    # Move i and j, but skip duplicates\n",
    "                    while i < j and nums[i] == nums[i + 1]:\n",
    "                        i += 1\n",
    "                    while i < j and nums[j] == nums[j - 1]:\n",
    "                        j -= 1\n",
    "                    \n",
    "                    i += 1\n",
    "                    j -= 1\n",
    "                elif sum > target:\n",
    "                    j -= 1\n",
    "                elif sum < target:\n",
    "                    i += 1\n",
    "        return ans\n",
    "            \n",
    "            \n",
    "\n",
    "\n",
    "# Example usage\n",
    "if __name__ == \"__main__\":\n",
    "    arr = [2, -1, -1, 3, -1]\n",
    "    # target = 0\n",
    "    sol = Solution()\n",
    "    result = sol.threeSum(arr)\n",
    "    print(result)"
   ]
  }
 ],
 "metadata": {
  "kernelspec": {
   "display_name": "venv",
   "language": "python",
   "name": "python3"
  },
  "language_info": {
   "codemirror_mode": {
    "name": "ipython",
    "version": 3
   },
   "file_extension": ".py",
   "mimetype": "text/x-python",
   "name": "python",
   "nbconvert_exporter": "python",
   "pygments_lexer": "ipython3",
   "version": "3.11.7"
  }
 },
 "nbformat": 4,
 "nbformat_minor": 2
}
