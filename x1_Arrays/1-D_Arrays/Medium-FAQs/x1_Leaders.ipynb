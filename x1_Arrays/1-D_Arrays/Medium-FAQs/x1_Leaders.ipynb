{
 "cells": [
  {
   "cell_type": "code",
   "execution_count": 16,
   "metadata": {},
   "outputs": [
    {
     "name": "stdout",
     "output_type": "stream",
     "text": [
      "[5, 1, -4, -5]\n"
     ]
    }
   ],
   "source": [
    "# Question is simple If the greater to any one to its right then it's a leader\n",
    "# Brute Force\n",
    "class Solution:\n",
    "    def leaders(self, nums):\n",
    "        return self.result(nums)\n",
    "    \n",
    "    def result(self,nums):\n",
    "        ans = []\n",
    "        for i in range(len(nums)):\n",
    "            leader = True\n",
    "            '''\n",
    "            Checking whether nums[i] is greater to all the element in the right\n",
    "            '''\n",
    "            for j in range(i+1,len(nums)):\n",
    "                if nums[j] > nums[i]:\n",
    "                    leader = False\n",
    "                    break\n",
    "            if leader:\n",
    "                ans.append(nums[i])\n",
    "                \n",
    "        return ans\n",
    "                    \n",
    "            \n",
    "# Example usage\n",
    "if __name__ == \"__main__\":\n",
    "    arr = [-3, 4, 5, 1, -4, -5]\n",
    "    sol = Solution()\n",
    "    result = sol.leaders(arr)\n",
    "    print(result)"
   ]
  },
  {
   "cell_type": "code",
   "execution_count": 20,
   "metadata": {},
   "outputs": [
    {
     "name": "stdout",
     "output_type": "stream",
     "text": [
      "[5, 1, -4, -5]\n"
     ]
    }
   ],
   "source": [
    "# Optimal Solution\n",
    "\n",
    "class Solution:\n",
    "    def leaders(self, nums):\n",
    "        return self.result(nums)\n",
    "    \n",
    "    def result(self,nums):\n",
    "        ans = []\n",
    "        \n",
    "        maxValue = nums[-1]\n",
    "        ans.append(maxValue)\n",
    "        \n",
    "        # Check elements left to right\n",
    "        for i in range( len(nums)- 2,-1,-1):\n",
    "            if maxValue < nums[i]:\n",
    "                ans.append(nums[i])\n",
    "                maxValue = nums[i]\n",
    "                \n",
    "        ans.reverse()\n",
    "        return ans\n",
    "                \n",
    "# Example usage\n",
    "if __name__ == \"__main__\":\n",
    "    arr = [-3, 4, 5, 1, -4, -5]\n",
    "    sol = Solution()\n",
    "    result = sol.leaders(arr)\n",
    "    print(result)\n"
   ]
  }
 ],
 "metadata": {
  "kernelspec": {
   "display_name": "venv",
   "language": "python",
   "name": "python3"
  },
  "language_info": {
   "codemirror_mode": {
    "name": "ipython",
    "version": 3
   },
   "file_extension": ".py",
   "mimetype": "text/x-python",
   "name": "python",
   "nbconvert_exporter": "python",
   "pygments_lexer": "ipython3",
   "version": "3.11.7"
  }
 },
 "nbformat": 4,
 "nbformat_minor": 2
}
