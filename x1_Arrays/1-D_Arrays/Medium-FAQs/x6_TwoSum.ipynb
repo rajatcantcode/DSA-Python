{
 "cells": [
  {
   "cell_type": "code",
   "execution_count": 15,
   "metadata": {},
   "outputs": [
    {
     "name": "stdout",
     "output_type": "stream",
     "text": [
      "[1, 5]\n"
     ]
    }
   ],
   "source": [
    "# Brute Force\n",
    "class Solution:\n",
    "    def twoSum(self, nums, target):\n",
    "        return self.result(nums,target)\n",
    "    \n",
    "    def result(self,nums,target):\n",
    "        list = []\n",
    "        for i in range(len(nums)):\n",
    "            for j in range(len(nums)):\n",
    "                if nums[i] + nums[j] == target:\n",
    "                    list.append(i)\n",
    "                    list.append(j)\n",
    "                    return list\n",
    "            \n",
    "        \n",
    "            \n",
    "            \n",
    "# Example usage\n",
    "if __name__ == \"__main__\":\n",
    "    arr = [1, 3, 5, -7, 6, -3]\n",
    "    target = 0\n",
    "    sol = Solution()\n",
    "    result = sol.twoSum(arr,target)\n",
    "    print(result)"
   ]
  },
  {
   "cell_type": "code",
   "execution_count": 9,
   "metadata": {},
   "outputs": [
    {
     "name": "stdout",
     "output_type": "stream",
     "text": [
      "Hello\n"
     ]
    }
   ],
   "source": [
    "# Note : Two-pointer approach doesn't work here since sorting would change the original indices \n",
    "\n",
    "class Solution:\n",
    "    def twoSum(self, nums, target):\n",
    "        return self.result(nums,target)\n",
    "    \n",
    "    def result(self,nums,target):\n",
    "        return \"Hello\"\n",
    "        \n",
    "        \n",
    "# Example usage\n",
    "if __name__ == \"__main__\":\n",
    "    arr = [1, 6, 2, 10, 3]\n",
    "    target = 7\n",
    "    sol = Solution()\n",
    "    result = sol.twoSum(arr,target)\n",
    "    print(result)\n"
   ]
  }
 ],
 "metadata": {
  "kernelspec": {
   "display_name": "venv",
   "language": "python",
   "name": "python3"
  },
  "language_info": {
   "codemirror_mode": {
    "name": "ipython",
    "version": 3
   },
   "file_extension": ".py",
   "mimetype": "text/x-python",
   "name": "python",
   "nbconvert_exporter": "python",
   "pygments_lexer": "ipython3",
   "version": "3.11.7"
  }
 },
 "nbformat": 4,
 "nbformat_minor": 2
}
