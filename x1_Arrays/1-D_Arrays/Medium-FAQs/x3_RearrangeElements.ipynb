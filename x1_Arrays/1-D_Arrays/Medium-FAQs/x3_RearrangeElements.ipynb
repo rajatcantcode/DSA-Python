{
 "cells": [
  {
   "cell_type": "code",
   "execution_count": 9,
   "metadata": {},
   "outputs": [
    {
     "name": "stdout",
     "output_type": "stream",
     "text": [
      "[2, -1, 4, -3, 5, -4]\n"
     ]
    }
   ],
   "source": [
    "# Brute Force\n",
    "# O (n log n)\n",
    "class Solution:\n",
    "    def rearrangeArray(self, nums):\n",
    "        return self.result(nums)\n",
    "    \n",
    "    def result(self,nums):\n",
    "        copy = sorted(nums)\n",
    "        # print(copy)\n",
    "        \n",
    "        i = len(nums)//2 - 1\n",
    "        j = len(nums)//2 \n",
    "        \n",
    "        ans = []\n",
    "        while i > -1 and j < len(nums):\n",
    "            ans.append(copy[j])\n",
    "            ans.append(copy[i])\n",
    "            i -= 1\n",
    "            j += 1\n",
    "       \n",
    "        return ans\n",
    "            \n",
    "# Example usage\n",
    "if __name__ == \"__main__\":\n",
    "    arr =  [2, 4, 5, -1, -3, -4]\n",
    "    sol = Solution()\n",
    "    result = sol.rearrangeArray(arr)\n",
    "    print(result)"
   ]
  },
  {
   "cell_type": "code",
   "execution_count": 10,
   "metadata": {},
   "outputs": [
    {
     "name": "stdout",
     "output_type": "stream",
     "text": [
      "[2, -1, 4, -3, 5, -4]\n",
      "None\n"
     ]
    }
   ],
   "source": [
    "# Optimal Approach\n",
    "# O (n)\n",
    "class Solution:\n",
    "    def rearrangeArray(self, nums):\n",
    "        return self.result(nums)\n",
    "    \n",
    "    def result(self,nums):\n",
    "        posIndex = 0\n",
    "        negIndex = 1\n",
    "        \n",
    "        ans = [0]*len(nums)\n",
    "        \n",
    "        for i in range(len(nums)):\n",
    "            # Negative\n",
    "            if nums[i] < 0: \n",
    "                ans[negIndex] = nums[i]\n",
    "                negIndex += 2\n",
    "            # Positive\n",
    "            else:\n",
    "                ans[posIndex] = nums[i]\n",
    "                posIndex += 2\n",
    "                \n",
    "        return ans\n",
    "                \n",
    "# Example usage\n",
    "if __name__ == \"__main__\":\n",
    "    arr =  [2, 4, 5, -1, -3, -4]\n",
    "    sol = Solution()\n",
    "    result = sol.rearrangeArray(arr)\n",
    "    print(result)"
   ]
  }
 ],
 "metadata": {
  "kernelspec": {
   "display_name": "venv",
   "language": "python",
   "name": "python3"
  },
  "language_info": {
   "codemirror_mode": {
    "name": "ipython",
    "version": 3
   },
   "file_extension": ".py",
   "mimetype": "text/x-python",
   "name": "python",
   "nbconvert_exporter": "python",
   "pygments_lexer": "ipython3",
   "version": "3.11.7"
  }
 },
 "nbformat": 4,
 "nbformat_minor": 2
}
