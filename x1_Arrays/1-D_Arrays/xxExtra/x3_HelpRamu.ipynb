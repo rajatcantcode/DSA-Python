{
 "cells": [
  {
   "cell_type": "markdown",
   "metadata": {},
   "source": [
    "Only Java Compiler is there 😅     \n",
    "https://hack.codingblocks.com/app/contests/4401/1089/problem"
   ]
  },
  {
   "cell_type": "markdown",
   "metadata": {},
   "source": [
    "Question Summary:  \n",
    "**c1** - one-time ride on some rick/cab   \n",
    "**c2** - unlimited ride on some rick/cab   \n",
    "**c3** - unlimited ride on all rick or cab   \n",
    "**c4** - unlimited ride on some rick and cab   \n",
    "\n",
    "Ramu wants to spend the least amount of money on tickets\n",
    "\n",
    "**1 3 7 9**  - Coins (c1,c2,c3,c4)    \n",
    "**2 3**      - no of rickshaw , no of cabs : Ramu is going to use     \n",
    "**2 5**      - no of times he is going to use rickshaw    \n",
    "**4 4 4**    - no of times he is going to use cabs   \n"
   ]
  },
  {
   "cell_type": "code",
   "execution_count": 2,
   "metadata": {},
   "outputs": [
    {
     "name": "stdout",
     "output_type": "stream",
     "text": [
      "9\n"
     ]
    }
   ],
   "source": [
    "# TODO : IT IS WRONG CHECK DRY RUN PAGE\n",
    "\n",
    "testCases = int(input(\"no of test cases\"))  # Number of test cases\n",
    "\n",
    "while testCases > 0:\n",
    "    # Reading inputs\n",
    "    c1 = int(input(\"c1\"))  # Cost per ride for Rickshaw/Cab\n",
    "    c2 = int(input(\"c2\"))  # Cost for unlimited rides in a day for Rickshaw/Cab\n",
    "    c3 = int(input(\"c3\"))  # Cost for unlimited Rickshaw/Cab rides overall\n",
    "    c4 = int(input(\"c4\"))  # Cost for unlimited rides for both Rickshaw and Cab\n",
    "    n = int(input(\"rickshaw_ride\"))   # Number of Rickshaw rides\n",
    "    m = int(input(\"cab_ride\"))   # Number of Cab rides\n",
    "\n",
    "    # Reading rickshaw ride details\n",
    "    rickshaw = []\n",
    "    for i in range(n):\n",
    "        rickshaw.append(int(input(i+1)))\n",
    "    \n",
    "    # Reading cab ride details\n",
    "    cab = []\n",
    "    for i in range(m):\n",
    "        cab.append(int(input(i+1)))  # Cab rides costs\n",
    "\n",
    "    # Calculating the total cost for Rickshaw rides\n",
    "    rickshaw_ride = 0\n",
    "    for ride in rickshaw:\n",
    "        rickshaw_ride += min(ride * c1, c2)\n",
    "\n",
    "    # Calculating the total cost for Cab rides\n",
    "    cab_ride = 0\n",
    "    for ride in cab:\n",
    "        cab_ride += min(ride * c1, c2)\n",
    "\n",
    "    # Minimize the cost for Rickshaw and Cab rides\n",
    "    rickshaw_ride = min(rickshaw_ride, c3)\n",
    "    cab_ride = min(cab_ride, c3)\n",
    "\n",
    "    # Final answer: Minimum of unlimited rides or total cost of Rickshaw and Cab\n",
    "    ans = min(c4, rickshaw_ride + cab_ride)\n",
    "    \n",
    "    print(ans)\n",
    "\n",
    "    testCases -= 1  # Decrement the test case count\n"
   ]
  },
  {
   "cell_type": "markdown",
   "metadata": {},
   "source": [
    "<img src=\"../../../assets/x1_Arrays/xxExtra/helpRamu.jpeg\" alt=\"Help Ramu Notes\" width=\"500\"/>"
   ]
  }
 ],
 "metadata": {
  "kernelspec": {
   "display_name": "venv",
   "language": "python",
   "name": "python3"
  },
  "language_info": {
   "codemirror_mode": {
    "name": "ipython",
    "version": 3
   },
   "file_extension": ".py",
   "mimetype": "text/x-python",
   "name": "python",
   "nbconvert_exporter": "python",
   "pygments_lexer": "ipython3",
   "version": "3.11.7"
  }
 },
 "nbformat": 4,
 "nbformat_minor": 2
}
