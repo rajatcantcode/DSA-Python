{
 "cells": [
  {
   "cell_type": "code",
   "execution_count": 13,
   "metadata": {},
   "outputs": [
    {
     "name": "stdout",
     "output_type": "stream",
     "text": [
      "1\n"
     ]
    }
   ],
   "source": [
    "class Solution:\n",
    "    def majorityElement(self, nums):\n",
    "        return self.result(nums)\n",
    "    \n",
    "    def result(self, nums):\n",
    "        nums.sort()\n",
    "        counter = 1  \n",
    "        i = 0\n",
    "        for _ in range(len(nums) - 1):\n",
    "            if nums[i] == nums[i + 1]:\n",
    "                counter += 1\n",
    "            else:\n",
    "                counter = 1 \n",
    "\n",
    "            if counter > len(nums) // 2: \n",
    "                break\n",
    "            i += 1\n",
    "        return nums[i]\n",
    "    \n",
    "# Example usage\n",
    "if __name__ == \"__main__\":\n",
    "    # arr = [7, 0, 0, 1, 7, 7, 2, 7, 7] # ans - 7\n",
    "    arr = [1, 1, 1, 2, 1, 2] # ans - 1\n",
    "    sol = Solution()\n",
    "    result = sol.majorityElement(arr)\n",
    "    print(result)"
   ]
  }
 ],
 "metadata": {
  "kernelspec": {
   "display_name": "venv",
   "language": "python",
   "name": "python3"
  },
  "language_info": {
   "codemirror_mode": {
    "name": "ipython",
    "version": 3
   },
   "file_extension": ".py",
   "mimetype": "text/x-python",
   "name": "python",
   "nbconvert_exporter": "python",
   "pygments_lexer": "ipython3",
   "version": "3.11.7"
  }
 },
 "nbformat": 4,
 "nbformat_minor": 2
}
