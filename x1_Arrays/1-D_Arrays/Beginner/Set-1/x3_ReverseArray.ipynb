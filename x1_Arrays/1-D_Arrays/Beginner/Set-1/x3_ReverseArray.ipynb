{
 "cells": [
  {
   "cell_type": "code",
   "execution_count": 5,
   "metadata": {},
   "outputs": [
    {
     "name": "stdout",
     "output_type": "stream",
     "text": [
      "[1, 5, 1, 1, 2, 1]\n"
     ]
    }
   ],
   "source": [
    "# ❌ Incorrect Approach:\n",
    "# This solution is incorrect because the problem explicitly requires reversing the array in place i.e. without creating a new array.\n",
    "class Solution:\n",
    "    def reverse(self, arr, n):\n",
    "        return self.result(arr,n)\n",
    "    def result(self,arr,n):\n",
    "        ans = []\n",
    "        for i in range(n-1,-1,-1):\n",
    "            ans.append(arr[i])\n",
    "        return ans\n",
    "\n",
    "\n",
    "    \n",
    "# Example usage\n",
    "if __name__ == \"__main__\":\n",
    "    n = 6\n",
    "    arr = [1,2,1,1,5,1]  # List\n",
    "    sol = Solution()\n",
    "    result = sol.reverse(arr, n)\n",
    "    print(result)"
   ]
  },
  {
   "cell_type": "code",
   "execution_count": 14,
   "metadata": {},
   "outputs": [
    {
     "name": "stdout",
     "output_type": "stream",
     "text": [
      "[5, 4, 3, 2, 1]\n"
     ]
    }
   ],
   "source": [
    "# 🎉 Optimized Approach\n",
    "class Solution:\n",
    "    def reverse(self, arr, n):\n",
    "        return self.result(arr,n)\n",
    "    def result(self,arr,n):\n",
    "        left = 0\n",
    "        right = len(arr)-1\n",
    "\n",
    "        while left < right:\n",
    "            temp = arr[left]\n",
    "            arr[left] = arr[right]\n",
    "            arr[right] = temp\n",
    "            left+=1\n",
    "            right-=1\n",
    "\n",
    "        return arr\n",
    "\n",
    "# Example usage\n",
    "if __name__ == \"__main__\":\n",
    "    n = 5\n",
    "    arr = [1,2,3,4,5]  # List\n",
    "    sol = Solution()\n",
    "    result = sol.reverse(arr, n)\n",
    "    print(result)"
   ]
  }
 ],
 "metadata": {
  "kernelspec": {
   "display_name": "venv",
   "language": "python",
   "name": "python3"
  },
  "language_info": {
   "codemirror_mode": {
    "name": "ipython",
    "version": 3
   },
   "file_extension": ".py",
   "mimetype": "text/x-python",
   "name": "python",
   "nbconvert_exporter": "python",
   "pygments_lexer": "ipython3",
   "version": "3.11.7"
  }
 },
 "nbformat": 4,
 "nbformat_minor": 2
}
