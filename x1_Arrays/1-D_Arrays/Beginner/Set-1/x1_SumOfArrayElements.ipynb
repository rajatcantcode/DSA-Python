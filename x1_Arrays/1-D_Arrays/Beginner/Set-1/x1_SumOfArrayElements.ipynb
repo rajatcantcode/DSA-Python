{
 "cells": [
  {
   "cell_type": "code",
   "execution_count": 5,
   "metadata": {},
   "outputs": [
    {
     "name": "stdout",
     "output_type": "stream",
     "text": [
      "15\n"
     ]
    }
   ],
   "source": [
    "class Solution:\n",
    "    def sum(self, arr, n): \n",
    "        return self.result(arr, n)\n",
    "    \n",
    "    def result(self, arr, n):\n",
    "        sum = 0\n",
    "        for i in range(len(arr)):\n",
    "            sum+=arr[i]\n",
    "        return sum\n",
    "\n",
    "# Example usage\n",
    "if __name__ == \"__main__\":\n",
    "    N = 1\n",
    "    arr = [1,2,3,4,5]  # List\n",
    "    sol = Solution()\n",
    "    result = sol.sum(arr, N)\n",
    "    print(result)"
   ]
  }
 ],
 "metadata": {
  "kernelspec": {
   "display_name": "venv",
   "language": "python",
   "name": "python3"
  },
  "language_info": {
   "codemirror_mode": {
    "name": "ipython",
    "version": 3
   },
   "file_extension": ".py",
   "mimetype": "text/x-python",
   "name": "python",
   "nbconvert_exporter": "python",
   "pygments_lexer": "ipython3",
   "version": "3.11.7"
  }
 },
 "nbformat": 4,
 "nbformat_minor": 2
}
