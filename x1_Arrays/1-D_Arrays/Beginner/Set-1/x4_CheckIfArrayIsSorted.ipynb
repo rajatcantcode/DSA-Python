{
 "cells": [
  {
   "cell_type": "code",
   "execution_count": 11,
   "metadata": {},
   "outputs": [
    {
     "name": "stdout",
     "output_type": "stream",
     "text": [
      "True\n"
     ]
    }
   ],
   "source": [
    "# 2 Loops = O(n**2)\n",
    "class Solution:\n",
    "    def arraySortedOrNot(self, arr, n):\n",
    "        return self.result(arr,n)\n",
    "    def result(self,arr,n):\n",
    "\n",
    "        for i in range(len(arr)-1):\n",
    "            for j in range(i+1,len(arr)):\n",
    "                # print(arr[i],arr[j])\n",
    "                if arr[i]>arr[j]:\n",
    "                    return False\n",
    "        return True\n",
    "\n",
    "    \n",
    "# Example usage\n",
    "if __name__ == \"__main__\":\n",
    "    n = 6\n",
    "    arr = [1,2,3,4]  \n",
    "    sol = Solution()\n",
    "    result = sol.arraySortedOrNot(arr, n)\n",
    "    print(result)"
   ]
  },
  {
   "cell_type": "code",
   "execution_count": 14,
   "metadata": {},
   "outputs": [
    {
     "name": "stdout",
     "output_type": "stream",
     "text": [
      "2 1\n",
      "3 2\n",
      "4 3\n",
      "True\n"
     ]
    }
   ],
   "source": [
    "# More Optimised Approach\n",
    "class Solution:\n",
    "    def arraySortedOrNot(self, arr, n):\n",
    "        return self.result(arr,n)\n",
    "    def result(self,arr,n):\n",
    "\n",
    "        for i in range(1,len(arr)):\n",
    "            # print(arr[i],arr[i-1])\n",
    "            if arr[i] < arr[i-1]:\n",
    "                return False\n",
    "        return True\n",
    "\n",
    "    \n",
    "# Example usage\n",
    "if __name__ == \"__main__\":\n",
    "    n = 6\n",
    "    arr = [1,2,3,4]  \n",
    "    sol = Solution()\n",
    "    result = sol.arraySortedOrNot(arr, n)\n",
    "    print(result)\n"
   ]
  }
 ],
 "metadata": {
  "kernelspec": {
   "display_name": "venv",
   "language": "python",
   "name": "python3"
  },
  "language_info": {
   "codemirror_mode": {
    "name": "ipython",
    "version": 3
   },
   "file_extension": ".py",
   "mimetype": "text/x-python",
   "name": "python",
   "nbconvert_exporter": "python",
   "pygments_lexer": "ipython3",
   "version": "3.11.7"
  }
 },
 "nbformat": 4,
 "nbformat_minor": 2
}
