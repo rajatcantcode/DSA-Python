{
 "cells": [
  {
   "cell_type": "code",
   "execution_count": 1,
   "metadata": {},
   "outputs": [
    {
     "name": "stdout",
     "output_type": "stream",
     "text": [
      "3\n"
     ]
    }
   ],
   "source": [
    "# 'Better' Solution\n",
    "# Time Complexity - O(n log n) | Space Complexity - O(1) \n",
    "class Solution:\n",
    "    def missingNumber(self, nums):\n",
    "        return self.result(nums)\n",
    "    \n",
    "    def result(self, nums):\n",
    "        # Edge Case - Empty array\n",
    "        if len(nums) == 0:\n",
    "            return 0\n",
    "        \n",
    "        # Edge Case - [0] or [1]\n",
    "        if len(nums) == 1:\n",
    "            if nums[0] != 0:\n",
    "                return 0\n",
    "            else:\n",
    "                return 1\n",
    "        \n",
    "        nums.sort()\n",
    "        \n",
    "        # Edge Case - Missing 0 at the start\n",
    "        if nums[0] != 0:\n",
    "            return 0\n",
    "        \n",
    "        # Iterate and check where the sequence breaks\n",
    "        for i in range(len(nums) - 1):\n",
    "            if nums[i] + 1 != nums[i + 1]:\n",
    "                return nums[i] + 1\n",
    "        \n",
    "        # Edge Case - If all numbers are present and missing number is len(nums)\n",
    "        return len(nums)\n",
    "\n",
    "                \n",
    "        \n",
    "# Example usage\n",
    "if __name__ == \"__main__\":\n",
    "    arr = [0, 1, 2, 4, 5, 6]\n",
    "    sol = Solution()\n",
    "    result = sol.missingNumber(arr)\n",
    "    print(result)"
   ]
  },
  {
   "cell_type": "code",
   "execution_count": 8,
   "metadata": {},
   "outputs": [
    {
     "name": "stdout",
     "output_type": "stream",
     "text": [
      "9\n"
     ]
    }
   ],
   "source": [
    "# Optimal Solution\n",
    "# Time Complexity - O(log n) | Space Complexity - O(1) \n",
    "class Solution:\n",
    "    def missingNumber(self, nums):\n",
    "        return self.result(nums)\n",
    "    \n",
    "    def result(self, nums):\n",
    "        N = len(nums) \n",
    "        \n",
    "        # Formula to calculate first N natural numbers\n",
    "        sum1 = (N * (N + 1)) // 2\n",
    "        \n",
    "        # Summation of all elements in nums array\n",
    "        sum2 = 0\n",
    "        for num in nums:\n",
    "            sum2 += num\n",
    "        \n",
    "        # Calculate the missing number\n",
    "        missingNum = sum1 - sum2\n",
    "        \n",
    "        # Return the missing number\n",
    "        return missingNum\n",
    "        \n",
    "# Example usage\n",
    "if __name__ == \"__main__\":\n",
    "    arr = [0, 1, 2, 4, 5, 6]\n",
    "    sol = Solution()\n",
    "    result = sol.missingNumber(arr)\n",
    "    print(result)"
   ]
  }
 ],
 "metadata": {
  "kernelspec": {
   "display_name": "venv",
   "language": "python",
   "name": "python3"
  },
  "language_info": {
   "codemirror_mode": {
    "name": "ipython",
    "version": 3
   },
   "file_extension": ".py",
   "mimetype": "text/x-python",
   "name": "python",
   "nbconvert_exporter": "python",
   "pygments_lexer": "ipython3",
   "version": "3.11.7"
  }
 },
 "nbformat": 4,
 "nbformat_minor": 2
}
