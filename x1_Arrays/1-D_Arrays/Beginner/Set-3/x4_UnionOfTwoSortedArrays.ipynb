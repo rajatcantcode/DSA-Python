{
 "cells": [
  {
   "cell_type": "code",
   "execution_count": 15,
   "metadata": {},
   "outputs": [
    {
     "name": "stdout",
     "output_type": "stream",
     "text": [
      "[1, 3, 4, 5, 6, 7, 8, 9]\n"
     ]
    }
   ],
   "source": [
    "class Solution:\n",
    "    def unionArray(self, nums1, nums2):\n",
    "        return self.result(nums1, nums2)\n",
    "    \n",
    "    def result(self, nums1, nums2):\n",
    "        i = 0\n",
    "        j = 0\n",
    "        size1 = len(nums1)\n",
    "        size2 = len(nums2)\n",
    "        union = []\n",
    "        \n",
    "        '''\n",
    "        len(union) == 0 or nums1[i] != union[-1]:\n",
    "        This condition is added to avoid duplicates.\n",
    "    \n",
    "        ⭐️ len(union) == 0 - Checks if the list is empty. This prevents an error when trying to access the last element (union[-1]) in an empty list.\n",
    "    \n",
    "        ⭐️ nums1[i] != union[-1] - Ensures the current element is not the same as the last element in the union list, preventing duplicates from being added.\n",
    "        '''\n",
    "\n",
    "        \n",
    "        \n",
    "        while i < size1 and j < size2:\n",
    "            # Skip duplicates in union\n",
    "            if nums1[i] == nums2[j]:  # If both elements are equal\n",
    "                if len(union) == 0 or nums1[i] != union[-1]:\n",
    "                    union.append(nums1[i])\n",
    "                i += 1\n",
    "                j += 1\n",
    "            elif nums1[i] < nums2[j]:\n",
    "                if len(union) == 0 or nums1[i] != union[-1]:\n",
    "                    union.append(nums1[i])\n",
    "                i += 1\n",
    "            else:\n",
    "                if len(union) == 0 or nums2[j] != union[-1]:\n",
    "                    union.append(nums2[j])\n",
    "                j += 1\n",
    "        \n",
    "        # Add remaining elements from nums1\n",
    "        while i < size1:\n",
    "            if len(union) == 0 or nums1[i] != union[-1]:\n",
    "                union.append(nums1[i])\n",
    "            i += 1\n",
    "            \n",
    "        # Add remaining elements from nums2\n",
    "        while j < size2:\n",
    "            if len(union) == 0 or nums2[j] != union[-1]:\n",
    "                union.append(nums2[j])\n",
    "            j += 1\n",
    "            \n",
    "        return union\n",
    "                \n",
    "# Example usage\n",
    "if __name__ == \"__main__\":\n",
    "    arr1 = [3, 4, 6, 7, 9, 9]\n",
    "    arr2 = [1, 5, 7, 8, 8]\n",
    "    \n",
    "    sol = Solution()\n",
    "    result = sol.unionArray(arr1, arr2)\n",
    "    print(result)\n"
   ]
  }
 ],
 "metadata": {
  "kernelspec": {
   "display_name": "venv",
   "language": "python",
   "name": "python3"
  },
  "language_info": {
   "codemirror_mode": {
    "name": "ipython",
    "version": 3
   },
   "file_extension": ".py",
   "mimetype": "text/x-python",
   "name": "python",
   "nbconvert_exporter": "python",
   "pygments_lexer": "ipython3",
   "version": "3.11.7"
  }
 },
 "nbformat": 4,
 "nbformat_minor": 2
}
