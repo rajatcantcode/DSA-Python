{
 "cells": [
  {
   "cell_type": "code",
   "execution_count": 3,
   "metadata": {},
   "outputs": [
    {
     "name": "stdout",
     "output_type": "stream",
     "text": [
      "4\n"
     ]
    }
   ],
   "source": [
    "# Brute Force - just put all the elements in a set and return the length of the set 🙂‍↕️\n",
    "# Optimal Solution - 2 pointer\n",
    "class Solution:\n",
    "    def removeDuplicates(self, nums):\n",
    "        return self.result(nums)\n",
    "    \n",
    "    def result(self,nums):\n",
    "        # Edge case\n",
    "        if len(nums) == 0:\n",
    "            return \n",
    "        \n",
    "        currentIndex = 0\n",
    "        for spotDuplicate in range(1,len(nums)):\n",
    "            if nums[spotDuplicate] != nums[currentIndex]:\n",
    "                currentIndex+=1\n",
    "                nums[currentIndex] = nums[spotDuplicate]\n",
    "        \n",
    "        return currentIndex + 1\n",
    "            \n",
    "        \n",
    "# Example usage\n",
    "if __name__ == \"__main__\":\n",
    "    arr = [0, 0, 3, 3, 5, 6]\n",
    "    sol = Solution()\n",
    "    result = sol.removeDuplicates(arr)\n",
    "    print(result)"
   ]
  },
  {
   "cell_type": "markdown",
   "metadata": {},
   "source": [
    "<img src=\"../../../../assets/x1_Arrays/beginner/removeDuplicates.jpeg\" alt=\"moveZeros\" width=\"500\"/>"
   ]
  }
 ],
 "metadata": {
  "kernelspec": {
   "display_name": "venv",
   "language": "python",
   "name": "python3"
  },
  "language_info": {
   "codemirror_mode": {
    "name": "ipython",
    "version": 3
   },
   "file_extension": ".py",
   "mimetype": "text/x-python",
   "name": "python",
   "nbconvert_exporter": "python",
   "pygments_lexer": "ipython3",
   "version": "3.11.7"
  }
 },
 "nbformat": 4,
 "nbformat_minor": 2
}
