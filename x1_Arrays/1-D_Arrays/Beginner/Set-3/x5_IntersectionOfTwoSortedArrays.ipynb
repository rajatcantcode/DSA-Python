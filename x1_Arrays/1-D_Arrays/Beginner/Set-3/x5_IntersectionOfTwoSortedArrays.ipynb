{
 "cells": [
  {
   "cell_type": "code",
   "execution_count": 12,
   "metadata": {},
   "outputs": [
    {
     "name": "stdout",
     "output_type": "stream",
     "text": [
      "[-45, 0, 0]\n"
     ]
    }
   ],
   "source": [
    "# Brute Force Approach for finding the intersection of two arrays\n",
    "\n",
    "# Note : We cannot push nums1 elements to set to get unique because in a test case down below repeating '0' also a part of intersection\n",
    "class Solution:\n",
    "    def intersectionArray(self, nums1, nums2):\n",
    "        return self.result(nums1, nums2)\n",
    "    \n",
    "    def result(self, nums1, nums2):\n",
    "        # Step 1: Initialize a 'visited' list to track elements in nums2\n",
    "        # This will prevent us from matching the same element from nums2 more than once\n",
    "        # Unvisited = 0 , Visited = 1\n",
    "        \n",
    "        size1 = len(nums1)\n",
    "        size2 = len(nums2)\n",
    "        visited = [0] * size2  # This marks elements in nums2 as unvisited (0)\n",
    "        intersection = []\n",
    "        \n",
    "        # Step 2: Compare each element of nums1 with elements of nums2\n",
    "        # We no longer remove duplicates from nums1\n",
    "        for i in range(size1):\n",
    "            for j in range(size2):\n",
    "                # If we find a match and the element in nums2 hasn't been visited\n",
    "                if nums1[i] == nums2[j] and visited[j] == 0:\n",
    "                    intersection.append(nums1[i])  # Add the match to the intersection\n",
    "                    visited[j] = 1  # Mark the element in nums2 as visited\n",
    "                    break  # Break to avoid checking further since we found a match\n",
    "                elif nums2[j] > nums1[i]:\n",
    "                    # Since nums2 is sorted, if nums2[j] > nums1[i],\n",
    "                    # we can stop the inner loop early\n",
    "                    break\n",
    "\n",
    "        # Step 3: Return the final list of intersection elements\n",
    "        return intersection\n",
    "\n",
    "# Example usage\n",
    "if __name__ == \"__main__\":\n",
    "    arr1 = [-45, -45, 0, 0, 2]\n",
    "    arr2 = [-50, -45, 0, 0, 5, 7]\n",
    "    # Expected output: [-45, 0, 0]\n",
    "    \n",
    "    sol = Solution()\n",
    "    result = sol.intersectionArray(arr1, arr2)\n",
    "    print(result)\n"
   ]
  },
  {
   "cell_type": "code",
   "execution_count": 13,
   "metadata": {},
   "outputs": [
    {
     "name": "stdout",
     "output_type": "stream",
     "text": [
      "[-45, 0, 0]\n"
     ]
    }
   ],
   "source": [
    "# Optimal Solution - 2 Pointers\n",
    "'''\n",
    "Logic:\n",
    "      Since both arrays are sorted, we can use two pointers (i for nums1 and j for nums2).\n",
    "    # If nums1[i] is smaller than nums2[j], we move the pointer i ahead because we need a larger value.\n",
    "    # If nums1[i] is greater than nums2[j], we move pointer j ahead to try and find a match.\n",
    "    # If nums1[i] is equal to nums2[j], it means we found a common element, and we add it to the result.\n",
    "'''\n",
    "\n",
    "class Solution:\n",
    "    def intersectionArray(self, nums1, nums2):\n",
    "        return self.result(nums1,nums2)\n",
    "    \n",
    "    def result(self,nums1,nums2):\n",
    "        i = 0 \n",
    "        j = 0\n",
    "        intersection = []\n",
    "        size1 = len(nums1)\n",
    "        size2 = len(nums2)\n",
    "        \n",
    "        while i < size1 and j < size2:\n",
    "            if nums1[i] == nums2[j]:\n",
    "                intersection.append(nums1[i])\n",
    "                i += 1\n",
    "                j += 1\n",
    "            elif nums1[i] > nums2[j]:\n",
    "                j += 1\n",
    "            elif nums1[i] < nums2[j]:\n",
    "                i += 1\n",
    "                \n",
    "        return intersection\n",
    "                \n",
    "            \n",
    "# Example usage\n",
    "if __name__ == \"__main__\":\n",
    "    arr1 = [-45, -45, 0, 0, 2]\n",
    "    arr2 = [-50, -45, 0, 0, 5, 7]\n",
    "    # Expected output: [-45, 0, 0]\n",
    "    \n",
    "    sol = Solution()\n",
    "    result = sol.intersectionArray(arr1, arr2)\n",
    "    print(result)\n"
   ]
  }
 ],
 "metadata": {
  "kernelspec": {
   "display_name": "venv",
   "language": "python",
   "name": "python3"
  },
  "language_info": {
   "codemirror_mode": {
    "name": "ipython",
    "version": 3
   },
   "file_extension": ".py",
   "mimetype": "text/x-python",
   "name": "python",
   "nbconvert_exporter": "python",
   "pygments_lexer": "ipython3",
   "version": "3.11.7"
  }
 },
 "nbformat": 4,
 "nbformat_minor": 2
}
