{
 "cells": [
  {
   "cell_type": "code",
   "execution_count": 8,
   "metadata": {},
   "outputs": [
    {
     "name": "stdout",
     "output_type": "stream",
     "text": [
      "[1, 4, 5, 2, 0, 0]\n"
     ]
    }
   ],
   "source": [
    "class Solution:\n",
    "    def moveZeroes(self, nums):\n",
    "        return self.result(nums)\n",
    "    \n",
    "    def result(self,nums):\n",
    "       nonZeroIndex = 0\n",
    "\n",
    "       for i in range(len(nums)):\n",
    "           if nums[i] != 0:\n",
    "               nums[nonZeroIndex] = nums[i]\n",
    "               nonZeroIndex+=1\n",
    "    \n",
    "       for i in range(nonZeroIndex,len(nums)):\n",
    "            nums[i] = 0\n",
    "        \n",
    "       return nums\n",
    "           \n",
    "\n",
    "\n",
    "\n",
    "# Example usage\n",
    "if __name__ == \"__main__\":\n",
    "    arr = [0, 1, 4, 0, 5, 2]\n",
    "    sol = Solution()\n",
    "    result = sol.moveZeroes(arr)\n",
    "    print(result)"
   ]
  }
 ],
 "metadata": {
  "kernelspec": {
   "display_name": "venv",
   "language": "python",
   "name": "python3"
  },
  "language_info": {
   "codemirror_mode": {
    "name": "ipython",
    "version": 3
   },
   "file_extension": ".py",
   "mimetype": "text/x-python",
   "name": "python",
   "nbconvert_exporter": "python",
   "pygments_lexer": "ipython3",
   "version": "3.11.7"
  }
 },
 "nbformat": 4,
 "nbformat_minor": 2
}
