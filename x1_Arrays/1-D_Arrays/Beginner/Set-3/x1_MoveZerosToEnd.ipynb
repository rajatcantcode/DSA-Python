{
 "cells": [
  {
   "cell_type": "code",
   "execution_count": 8,
   "metadata": {},
   "outputs": [
    {
     "name": "stdout",
     "output_type": "stream",
     "text": [
      "[1, 4, 5, 2, 0, 0]\n"
     ]
    }
   ],
   "source": [
    "# Brute Force \n",
    "# Logic: If the number is not equal to 0, move the number to the left side of the array,\n",
    "# then fill the remaining positions in the array with 0.\n",
    "class Solution:\n",
    "    def moveZeroes(self, nums):\n",
    "        return self.result(nums)\n",
    "    \n",
    "    def result(self,nums):\n",
    "       nonZeroIndex = 0\n",
    "\n",
    "       for i in range(len(nums)):\n",
    "           if nums[i] != 0:\n",
    "               nums[nonZeroIndex] = nums[i]\n",
    "               nonZeroIndex+=1\n",
    "    \n",
    "       for i in range(nonZeroIndex,len(nums)):\n",
    "            nums[i] = 0\n",
    "        \n",
    "       return nums\n",
    "           \n",
    "\n",
    "# Example usage\n",
    "if __name__ == \"__main__\":\n",
    "    arr = [0, 1, 4, 0, 5, 2]\n",
    "    sol = Solution()\n",
    "    result = sol.moveZeroes(arr)\n",
    "    print(result)"
   ]
  },
  {
   "cell_type": "code",
   "execution_count": 2,
   "metadata": {},
   "outputs": [
    {
     "name": "stdout",
     "output_type": "stream",
     "text": [
      "[20, -20, 20, 0, 0, 0]\n"
     ]
    }
   ],
   "source": [
    "# Optimal Approach - 2 pointer approach\n",
    "class Solution:\n",
    "    def moveZeroes(self, nums):\n",
    "        return self.result(nums)\n",
    "    \n",
    "    def result(self,nums):\n",
    "        j = -1\n",
    "        n = len(nums)   \n",
    "       \n",
    "        # place the pointer j to the first 0\n",
    "        for i in range(n):\n",
    "            if nums[i] == 0:\n",
    "                j = i\n",
    "                break\n",
    "        \n",
    "        # Edge Case : non-zero array\n",
    "        if j == -1:\n",
    "            return\n",
    "        # print(j)\n",
    "        \n",
    "        \n",
    "        \"\"\"Swapping i and j\"\"\"\n",
    "        for i in range(j + 1, n):\n",
    "            if nums[i] != 0:\n",
    "                # print(nums)\n",
    "                self.swap(nums,i,j)\n",
    "                j += 1\n",
    "        return nums\n",
    "    \n",
    "    def swap(self,nums,i,j):\n",
    "        nums[i],nums[j] = nums[j],nums[i] \n",
    "\n",
    "# Example usage\n",
    "if __name__ == \"__main__\":\n",
    "    arr = [0, 20, 0, -20, 0, 20]\n",
    "    sol = Solution()\n",
    "    result = sol.moveZeroes(arr)\n",
    "    print(result)"
   ]
  },
  {
   "cell_type": "markdown",
   "metadata": {},
   "source": [
    "<img src=\"../../../../assets/x1_Arrays/beginner/moveZerosToEnd.jpeg\" alt=\"moveZeros\" width=\"500\"/>"
   ]
  }
 ],
 "metadata": {
  "kernelspec": {
   "display_name": "venv",
   "language": "python",
   "name": "python3"
  },
  "language_info": {
   "codemirror_mode": {
    "name": "ipython",
    "version": 3
   },
   "file_extension": ".py",
   "mimetype": "text/x-python",
   "name": "python",
   "nbconvert_exporter": "python",
   "pygments_lexer": "ipython3",
   "version": "3.11.7"
  }
 },
 "nbformat": 4,
 "nbformat_minor": 2
}
