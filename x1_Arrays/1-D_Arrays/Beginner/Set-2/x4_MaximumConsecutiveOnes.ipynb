{
 "cells": [
  {
   "cell_type": "code",
   "execution_count": 10,
   "metadata": {},
   "outputs": [
    {
     "name": "stdout",
     "output_type": "stream",
     "text": [
      "6\n"
     ]
    }
   ],
   "source": [
    "class Solution:\n",
    "    def findMaxConsecutiveOnes(self, nums):\n",
    "        return self.result(nums)\n",
    "    \n",
    "    def result(self,nums):\n",
    "        counter = 0\n",
    "        ans = 0\n",
    "        for i in range(len(nums)):\n",
    "            if nums[i] == 1:\n",
    "                counter += 1\n",
    "                ans = max(counter,ans)\n",
    "            else:\n",
    "                ans = max(counter,ans)\n",
    "                counter = 0\n",
    "        return ans\n",
    "\n",
    "\n",
    "# Example usage\n",
    "if __name__ == \"__main__\":\n",
    "    arr = [1,1,1,1, 1, 1]  \n",
    "    sol = Solution()\n",
    "    result = sol.findMaxConsecutiveOnes(arr)\n",
    "    print(result)"
   ]
  }
 ],
 "metadata": {
  "kernelspec": {
   "display_name": "venv",
   "language": "python",
   "name": "python3"
  },
  "language_info": {
   "codemirror_mode": {
    "name": "ipython",
    "version": 3
   },
   "file_extension": ".py",
   "mimetype": "text/x-python",
   "name": "python",
   "nbconvert_exporter": "python",
   "pygments_lexer": "ipython3",
   "version": "3.11.7"
  }
 },
 "nbformat": 4,
 "nbformat_minor": 2
}
