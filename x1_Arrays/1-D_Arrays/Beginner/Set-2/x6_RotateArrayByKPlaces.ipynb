{
 "cells": [
  {
   "cell_type": "code",
   "execution_count": 2,
   "metadata": {},
   "outputs": [
    {
     "name": "stdout",
     "output_type": "stream",
     "text": [
      "[3, 4, 5, 6, 1, 2]\n"
     ]
    }
   ],
   "source": [
    "# Brute Force\n",
    "# Problem With Below Solution : We need to mofify the original array and slicing returns a new array\n",
    "def rotate(nums,k):\n",
    "    k = k%len(nums)\n",
    "    nums = nums[k:] + nums[:k]\n",
    "    return nums\n",
    "\n",
    "arr = [1, 2, 3, 4, 5, 6]  \n",
    "k = 2\n",
    "result = rotate(arr,k)\n",
    "print(result)"
   ]
  },
  {
   "cell_type": "code",
   "execution_count": 12,
   "metadata": {},
   "outputs": [
    {
     "name": "stdout",
     "output_type": "stream",
     "text": [
      "0 2\n",
      "3 5\n",
      "0 5\n",
      "[4, 5, 6, 1, 2, 3]\n"
     ]
    }
   ],
   "source": [
    "# Optimal\n",
    "class Solution:\n",
    "    def rotateArray(self, nums, k):\n",
    "        return self.result(nums,k)\n",
    "    \n",
    "    def result(self,nums,k):\n",
    "        k = k % len(nums)\n",
    "        reverseArray = self.reverseArray(nums,0,k-1)\n",
    "        # print(nums)\n",
    "        reverseArray = self.reverseArray(reverseArray,k,len(nums)-1)\n",
    "        # print(nums)\n",
    "        return self.reverseArray(reverseArray,0,len(nums)-1)\n",
    "        \n",
    "    \n",
    "    def reverseArray(self,nums,start,end):\n",
    "        while start < end:\n",
    "            nums[start],nums[end] = nums[end],nums[start]\n",
    "            start += 1\n",
    "            end -= 1\n",
    "        return nums\n",
    "    \n",
    "    \n",
    "# Example usage\n",
    "if __name__ == \"__main__\":\n",
    "    arr = [1, 2, 3, 4, 5, 6]  \n",
    "    k = 3\n",
    "    sol = Solution()\n",
    "    result = sol.rotateArray(arr,k)\n",
    "    print(result)"
   ]
  },
  {
   "cell_type": "code",
   "execution_count": null,
   "metadata": {},
   "outputs": [],
   "source": []
  }
 ],
 "metadata": {
  "kernelspec": {
   "display_name": "venv",
   "language": "python",
   "name": "python3"
  },
  "language_info": {
   "codemirror_mode": {
    "name": "ipython",
    "version": 3
   },
   "file_extension": ".py",
   "mimetype": "text/x-python",
   "name": "python",
   "nbconvert_exporter": "python",
   "pygments_lexer": "ipython3",
   "version": "3.11.7"
  }
 },
 "nbformat": 4,
 "nbformat_minor": 2
}
