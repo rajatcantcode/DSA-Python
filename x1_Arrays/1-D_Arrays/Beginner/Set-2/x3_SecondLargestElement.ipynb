{
 "cells": [
  {
   "cell_type": "code",
   "execution_count": 13,
   "metadata": {},
   "outputs": [
    {
     "name": "stdout",
     "output_type": "stream",
     "text": [
      "-1\n"
     ]
    }
   ],
   "source": [
    "class Solution:\n",
    "    def secondLargestElement(self, nums):\n",
    "        return self.result(nums)\n",
    "    \n",
    "    def result(self,nums):\n",
    "        nums.sort()\n",
    "        largest = nums[0]\n",
    "        secondLargest = -1\n",
    "\n",
    "        for i in range(len(nums)):\n",
    "            if nums[i] > largest:\n",
    "                secondLargest = largest\n",
    "                largest = nums[i]\n",
    "        return secondLargest\n",
    "          \n",
    "# Example usage\n",
    "if __name__ == \"__main__\":\n",
    "    arr = [10, 10, 10]  \n",
    "    sol = Solution()\n",
    "    result = sol.secondLargestElement(arr)\n",
    "    print(result)"
   ]
  }
 ],
 "metadata": {
  "kernelspec": {
   "display_name": "venv",
   "language": "python",
   "name": "python3"
  },
  "language_info": {
   "codemirror_mode": {
    "name": "ipython",
    "version": 3
   },
   "file_extension": ".py",
   "mimetype": "text/x-python",
   "name": "python",
   "nbconvert_exporter": "python",
   "pygments_lexer": "ipython3",
   "version": "3.11.7"
  }
 },
 "nbformat": 4,
 "nbformat_minor": 2
}
