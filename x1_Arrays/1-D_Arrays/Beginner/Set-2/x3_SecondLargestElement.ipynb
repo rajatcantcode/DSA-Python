{
 "cells": [
  {
   "cell_type": "code",
   "execution_count": 15,
   "metadata": {},
   "outputs": [
    {
     "name": "stdout",
     "output_type": "stream",
     "text": [
      "-2\n"
     ]
    }
   ],
   "source": [
    "# Brute force - O(nlogn)\n",
    "\n",
    "class Solution:\n",
    "    def secondLargestElement(self, nums):\n",
    "        return self.result(nums)\n",
    "    \n",
    "    def result(self,nums):\n",
    "        # Edge case: if the size of the array is less than 2\n",
    "        if len(nums) < 2:\n",
    "            return -1\n",
    "        \n",
    "        nums.sort()\n",
    "        largest = nums[0]\n",
    "        secondLargest = -1\n",
    "\n",
    "        for i in range(len(nums)):\n",
    "            if nums[i] > largest:\n",
    "                secondLargest = largest\n",
    "                largest = nums[i]\n",
    "        return secondLargest\n",
    "\n",
    "# Example usage\n",
    "if __name__ == \"__main__\":\n",
    "    arr = [-2, -1, -2, -1, -3, -4]  \n",
    "    sol = Solution()\n",
    "    result = sol.secondLargestElement(arr)\n",
    "    print(result)"
   ]
  },
  {
   "cell_type": "code",
   "execution_count": 16,
   "metadata": {},
   "outputs": [
    {
     "name": "stdout",
     "output_type": "stream",
     "text": [
      "-2\n"
     ]
    }
   ],
   "source": [
    "# Optimal Approach - O(n)\n",
    "\n",
    "class Solution:\n",
    "    def secondLargestNumber(self, nums):\n",
    "        # Edge case: if the size of the array is less than 2\n",
    "        if len(nums) < 2:\n",
    "            return -1\n",
    "\n",
    "        largest = float('-inf')\n",
    "        secondLargest = float('-inf')\n",
    "\n",
    "        for i in range(len(nums)):\n",
    "            if nums[i] > largest:\n",
    "                secondLargest = largest\n",
    "                largest = nums[i]\n",
    "            elif nums[i] > secondLargest and nums[i] != largest:\n",
    "                secondLargest = nums[i]\n",
    "            else:\n",
    "                continue\n",
    "\n",
    "        # Edge Case : If all the elements are same thus no second Largest\n",
    "        if secondLargest == float('-inf'):\n",
    "            return -1\n",
    "\n",
    "        return secondLargest\n",
    "\n",
    "          \n",
    "# Example usage\n",
    "if __name__ == \"__main__\":\n",
    "    arr = [-2, -1, -2, -1, -3, -4]  \n",
    "    sol = Solution()\n",
    "    result = sol.secondLargestNumber(arr)\n",
    "    print(result)\n"
   ]
  }
 ],
 "metadata": {
  "kernelspec": {
   "display_name": "venv",
   "language": "python",
   "name": "python3"
  },
  "language_info": {
   "codemirror_mode": {
    "name": "ipython",
    "version": 3
   },
   "file_extension": ".py",
   "mimetype": "text/x-python",
   "name": "python",
   "nbconvert_exporter": "python",
   "pygments_lexer": "ipython3",
   "version": "3.11.7"
  }
 },
 "nbformat": 4,
 "nbformat_minor": 2
}
