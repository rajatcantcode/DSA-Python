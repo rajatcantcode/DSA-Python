{
 "cells": [
  {
   "cell_type": "code",
   "execution_count": 1,
   "metadata": {},
   "outputs": [
    {
     "name": "stdout",
     "output_type": "stream",
     "text": [
      "1 2 3 4 8 12 16 15 14 13 9 5 6 7 11 10 "
     ]
    }
   ],
   "source": [
    "matrix = [\n",
    "    [1, 2, 3, 4],\n",
    "    [5, 6, 7, 8],\n",
    "    [9, 10, 11, 12],\n",
    "    [13, 14, 15, 16]\n",
    "]\n",
    "\n",
    "minRow = 0\n",
    "maxRow = len(matrix) - 1\n",
    "minCol = 0\n",
    "maxCol = len(matrix[0]) - 1\n",
    "\n",
    "total = len(matrix) * len(matrix[0])\n",
    "count = 0\n",
    "\n",
    "while count < total:\n",
    "    # ->\n",
    "    for i in range(minCol, maxCol + 1):\n",
    "        if count < total:\n",
    "            print(matrix[minRow][i], end=\" \")\n",
    "            count += 1\n",
    "    minRow += 1\n",
    "    \n",
    "    # ⬇\n",
    "    for i in range(minRow, maxRow + 1):\n",
    "        if count < total:\n",
    "            print(matrix[i][maxCol], end=\" \")\n",
    "            count += 1\n",
    "    maxCol -= 1\n",
    "        \n",
    "    # ⬅\n",
    "    for i in range(maxCol, minCol - 1, -1):\n",
    "        if count < total:\n",
    "            print(matrix[maxRow][i], end=\" \")\n",
    "            count += 1\n",
    "    maxRow -= 1\n",
    "    \n",
    "    # ⬆\n",
    "    for i in range(maxRow, minRow - 1, -1):\n",
    "        if count < total:\n",
    "            print(matrix[i][minCol], end=\" \")\n",
    "            count += 1\n",
    "    minCol += 1\n"
   ]
  }
 ],
 "metadata": {
  "kernelspec": {
   "display_name": "venv",
   "language": "python",
   "name": "python3"
  },
  "language_info": {
   "codemirror_mode": {
    "name": "ipython",
    "version": 3
   },
   "file_extension": ".py",
   "mimetype": "text/x-python",
   "name": "python",
   "nbconvert_exporter": "python",
   "pygments_lexer": "ipython3",
   "version": "3.11.7"
  }
 },
 "nbformat": 4,
 "nbformat_minor": 2
}
