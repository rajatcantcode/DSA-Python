{
 "cells": [
  {
   "cell_type": "markdown",
   "metadata": {},
   "source": [
    "**BEGINNER LEVEL** "
   ]
  },
  {
   "cell_type": "code",
   "execution_count": 6,
   "metadata": {},
   "outputs": [
    {
     "name": "stdout",
     "output_type": "stream",
     "text": [
      "Your 2-D Array is:\n",
      "[None, None]\n",
      "[None, None]\n"
     ]
    }
   ],
   "source": [
    "# Creation of 2 D Arrays - with all 'none' value\n",
    "\n",
    "noOfRows = int(input(\"Rows\"))\n",
    "noOfCols = int(input(\"Cols\"))\n",
    "\n",
    "# '_' is just a throwaway variable\n",
    "Array_2D = [[None] * noOfCols for _ in range(noOfRows)]\n",
    "\n",
    "# Print the 2D array\n",
    "print(\"Your 2-D Array is:\")\n",
    "for row in Array_2D:\n",
    "    print(row)\n"
   ]
  },
  {
   "cell_type": "code",
   "execution_count": 9,
   "metadata": {},
   "outputs": [
    {
     "name": "stdout",
     "output_type": "stream",
     "text": [
      "\n",
      "The 2D Array you entered is:\n",
      "['1', '1', '1']\n",
      "['2', '2', '2']\n"
     ]
    }
   ],
   "source": [
    "# Creation of 2 D array with Cusom value\n",
    "\n",
    "noOfRows = int(input(\"Enter number of rows: \"))\n",
    "noOfCols = int(input(\"Enter number of columns: \"))\n",
    "\n",
    "# Initialize an empty 2D array\n",
    "Array_2D = []\n",
    "\n",
    "# Loop through each row\n",
    "for i in range(noOfRows):\n",
    "    row = []  # Initialize an empty row\n",
    "    for j in range(noOfCols):\n",
    "        value = input(f\"Enter value for row {i + 1}, column {j + 1}: \")\n",
    "        row.append(value)  # Append the inputted value to the row\n",
    "    Array_2D.append(row)  # Append the filled row to the 2D Array\n",
    "    \n",
    "\n",
    "# Print the 2D Array\n",
    "print(\"\\nThe 2D Array you entered is:\")\n",
    "for row in Array_2D:\n",
    "    print(row)"
   ]
  }
 ],
 "metadata": {
  "kernelspec": {
   "display_name": "venv",
   "language": "python",
   "name": "python3"
  },
  "language_info": {
   "codemirror_mode": {
    "name": "ipython",
    "version": 3
   },
   "file_extension": ".py",
   "mimetype": "text/x-python",
   "name": "python",
   "nbconvert_exporter": "python",
   "pygments_lexer": "ipython3",
   "version": "3.11.7"
  }
 },
 "nbformat": 4,
 "nbformat_minor": 2
}
