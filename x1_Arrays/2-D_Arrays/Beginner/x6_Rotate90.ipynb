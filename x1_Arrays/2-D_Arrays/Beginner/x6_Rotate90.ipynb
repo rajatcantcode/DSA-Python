{
 "cells": [
  {
   "cell_type": "code",
   "execution_count": 2,
   "metadata": {},
   "outputs": [
    {
     "name": "stdout",
     "output_type": "stream",
     "text": [
      "2  1  5  \n",
      "1  3  3  \n",
      "1  5  5  \n"
     ]
    }
   ],
   "source": [
    "matrix = [\n",
    "  [1, 1, 2], \n",
    "  [5, 3, 1], \n",
    "  [5, 3, 5]\n",
    "]\n",
    "\n",
    "# Iterate over the columns of the matrix\n",
    "for col in range(len(matrix[0])):\n",
    "    # Iterate over the rows in reverse order to rotate\n",
    "    for row in range(len(matrix)-1, -1, -1):\n",
    "        print(matrix[row][col], \" \", end=\"\")\n",
    "    print(\"\")"
   ]
  }
 ],
 "metadata": {
  "kernelspec": {
   "display_name": "venv",
   "language": "python",
   "name": "python3"
  },
  "language_info": {
   "codemirror_mode": {
    "name": "ipython",
    "version": 3
   },
   "file_extension": ".py",
   "mimetype": "text/x-python",
   "name": "python",
   "nbconvert_exporter": "python",
   "pygments_lexer": "ipython3",
   "version": "3.11.7"
  }
 },
 "nbformat": 4,
 "nbformat_minor": 2
}
