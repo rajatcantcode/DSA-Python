{
 "cells": [
  {
   "cell_type": "code",
   "execution_count": 1,
   "metadata": {},
   "outputs": [
    {
     "name": "stdout",
     "output_type": "stream",
     "text": [
      "True\n"
     ]
    }
   ],
   "source": [
    "# TODO : Crosscheck maybe it's wrong\n",
    "matrix = [\n",
    "    [1, 0, 0, 0],\n",
    "    [2, 3, 0, 0],\n",
    "    [4, 5, 6, 0],\n",
    "    [7, 8, 9, 1]\n",
    "]\n",
    "\n",
    "for i in range(len(matrix)):\n",
    "    for j in range(i+1,len(matrix[0])-2):\n",
    "        if matrix[i][j] == matrix[i][j+1]:\n",
    "            j += 1\n",
    "        else :\n",
    "            print(False)\n",
    "            break\n",
    "    print(True)\n",
    "    break"
   ]
  }
 ],
 "metadata": {
  "kernelspec": {
   "display_name": "venv",
   "language": "python",
   "name": "python3"
  },
  "language_info": {
   "codemirror_mode": {
    "name": "ipython",
    "version": 3
   },
   "file_extension": ".py",
   "mimetype": "text/x-python",
   "name": "python",
   "nbconvert_exporter": "python",
   "pygments_lexer": "ipython3",
   "version": "3.11.7"
  }
 },
 "nbformat": 4,
 "nbformat_minor": 2
}
