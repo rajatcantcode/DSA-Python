{
 "cells": [
  {
   "cell_type": "code",
   "execution_count": 7,
   "metadata": {},
   "outputs": [
    {
     "name": "stdout",
     "output_type": "stream",
     "text": [
      "1 5 9 13  -nextCol- 14 10 6 2  -nextCol- 3 7 11 15  -nextCol- 16 12 8 4  -nextCol- "
     ]
    }
   ],
   "source": [
    "# Wave Col\n",
    "matrix = [\n",
    "    [1, 2, 3, 4],\n",
    "    [5, 6, 7, 8],\n",
    "    [9, 10, 11, 12],\n",
    "    [13, 14, 15, 16]\n",
    "]\n",
    "\n",
    "def col(matrix):\n",
    "    for col in range(len(matrix[0])):\n",
    "        if col % 2 != 0:\n",
    "            # Print column in reverse order (for even columns)\n",
    "            for row in range(len(matrix) - 1, -1, -1):\n",
    "                print(matrix[row][col], end=\" \")\n",
    "        else:\n",
    "            # Print column in normal order (for odd columns)\n",
    "            for row in range(len(matrix)):\n",
    "                print(matrix[row][col], end=\" \")\n",
    "        print(\" -nextCol- \",end=\"\")\n",
    "        \n",
    "col(matrix)"
   ]
  },
  {
   "cell_type": "code",
   "execution_count": 3,
   "metadata": {},
   "outputs": [
    {
     "name": "stdout",
     "output_type": "stream",
     "text": [
      "1 2 3 4 \n",
      "8 7 6 5 \n",
      "9 10 11 12 \n",
      "16 15 14 13 \n"
     ]
    }
   ],
   "source": [
    "# Wave Row\n",
    "matrix = [\n",
    "    [1, 2, 3, 4],\n",
    "    [5, 6, 7, 8],\n",
    "    [9, 10, 11, 12],\n",
    "    [13, 14, 15, 16]\n",
    "]\n",
    "\n",
    "def row_wave(matrix):\n",
    "    for row in range(len(matrix)):\n",
    "        if row % 2 == 0:  # For even rows, iterate left to right\n",
    "            for col in range(len(matrix[0])):\n",
    "                print(matrix[row][col], end=\" \")\n",
    "        else:  # For odd rows, iterate right to left\n",
    "            for col in range(len(matrix[0]) - 1, -1, -1):\n",
    "                print(matrix[row][col], end=\" \")\n",
    "        print(\"\")  \n",
    "\n",
    "row_wave(matrix)\n"
   ]
  }
 ],
 "metadata": {
  "kernelspec": {
   "display_name": "venv",
   "language": "python",
   "name": "python3"
  },
  "language_info": {
   "codemirror_mode": {
    "name": "ipython",
    "version": 3
   },
   "file_extension": ".py",
   "mimetype": "text/x-python",
   "name": "python",
   "nbconvert_exporter": "python",
   "pygments_lexer": "ipython3",
   "version": "3.11.7"
  }
 },
 "nbformat": 4,
 "nbformat_minor": 2
}
