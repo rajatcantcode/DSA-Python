{
 "cells": [
  {
   "cell_type": "code",
   "execution_count": 3,
   "metadata": {},
   "outputs": [
    {
     "name": "stdout",
     "output_type": "stream",
     "text": [
      "[0, 5, 10, 15, 20]\n",
      "[1, 6, 11, 16, 21]\n",
      "[2, 7, 12, 17, 22]\n",
      "[3, 8, 13, 18, 23]\n",
      "[4, 9, 14, 19, 24]\n"
     ]
    }
   ],
   "source": [
    "matrix = [\n",
    "    [0,1,2,3,4],\n",
    "    [5,6,7,8,9],\n",
    "    [10,11,12,13,14],\n",
    "    [15,16,17,18,19],\n",
    "    [20,21,22,23,24]\n",
    "]\n",
    "\n",
    "for row in range(len(matrix)):\n",
    "    for j in range(row+1,len(matrix[0])):\n",
    "        temp = matrix[row][j]\n",
    "        matrix[row][j] = matrix[j][row]\n",
    "        matrix[j][row] = temp\n",
    "   \n",
    "# Printing\n",
    "for row in matrix:\n",
    "    print(row)"
   ]
  }
 ],
 "metadata": {
  "kernelspec": {
   "display_name": "venv",
   "language": "python",
   "name": "python3"
  },
  "language_info": {
   "codemirror_mode": {
    "name": "ipython",
    "version": 3
   },
   "file_extension": ".py",
   "mimetype": "text/x-python",
   "name": "python",
   "nbconvert_exporter": "python",
   "pygments_lexer": "ipython3",
   "version": "3.11.7"
  }
 },
 "nbformat": 4,
 "nbformat_minor": 2
}
