{
 "cells": [
  {
   "cell_type": "code",
   "execution_count": 2,
   "metadata": {},
   "outputs": [
    {
     "name": "stdout",
     "output_type": "stream",
     "text": [
      "Row with max sum: 3\n",
      "Max sum: 58\n"
     ]
    }
   ],
   "source": [
    "matrix = [\n",
    "    [1, 2, 3, 4],\n",
    "    [5, 6, 7, 8],\n",
    "    [9, 10, 11, 12],\n",
    "    [13, 14, 15, 16]\n",
    "]\n",
    "\n",
    "maxSum = float(\"-inf\")  \n",
    "index = -1 \n",
    "\n",
    "for i in range(len(matrix)):\n",
    "    sum = 0\n",
    "    for j in range(len(matrix[0])):\n",
    "        sum += matrix[i][j] \n",
    "    if sum > maxSum:  \n",
    "        maxSum = sum\n",
    "        index = i  \n",
    "\n",
    "print(\"Row with max sum:\", index)\n",
    "print(\"Max sum:\", maxSum)\n"
   ]
  }
 ],
 "metadata": {
  "kernelspec": {
   "display_name": "venv",
   "language": "python",
   "name": "python3"
  },
  "language_info": {
   "codemirror_mode": {
    "name": "ipython",
    "version": 3
   },
   "file_extension": ".py",
   "mimetype": "text/x-python",
   "name": "python",
   "nbconvert_exporter": "python",
   "pygments_lexer": "ipython3",
   "version": "3.11.7"
  }
 },
 "nbformat": 4,
 "nbformat_minor": 2
}
