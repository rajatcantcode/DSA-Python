{
 "cells": [
  {
   "cell_type": "markdown",
   "metadata": {},
   "source": [
    "Matrix is sorted in increasing order both row-wise and col-wise"
   ]
  },
  {
   "cell_type": "code",
   "execution_count": 5,
   "metadata": {},
   "outputs": [
    {
     "name": "stdout",
     "output_type": "stream",
     "text": [
      "True\n"
     ]
    }
   ],
   "source": [
    "class Solution:\n",
    "    def searchMatrix(self, mat, target):\n",
    "        return self.result(mat,target)\n",
    "    \n",
    "    def result(self,mat,target):\n",
    "        row = 0\n",
    "        col = len(mat[0]) - 1\n",
    "        while row < len(mat) and col >= 0:\n",
    "            # print(row,col)\n",
    "            if mat[row][col] == target:\n",
    "                return True\n",
    "            elif mat[row][col] > target:\n",
    "                col -= 1\n",
    "            elif mat[row][col] < target:\n",
    "                row += 1\n",
    "     \n",
    "# Example usage\n",
    "if __name__ == \"__main__\":\n",
    "    matrix = [ \n",
    "              [1, 2, 3, 4], \n",
    "              [5, 6, 7, 8],\n",
    "              [9, 10, 11, 12]\n",
    "             ]\n",
    "    target = 8\n",
    "    sol = Solution()\n",
    "    result = sol.searchMatrix(matrix,target)\n",
    "    print(result)"
   ]
  }
 ],
 "metadata": {
  "kernelspec": {
   "display_name": "venv",
   "language": "python",
   "name": "python3"
  },
  "language_info": {
   "codemirror_mode": {
    "name": "ipython",
    "version": 3
   },
   "file_extension": ".py",
   "mimetype": "text/x-python",
   "name": "python",
   "nbconvert_exporter": "python",
   "pygments_lexer": "ipython3",
   "version": "3.11.7"
  }
 },
 "nbformat": 4,
 "nbformat_minor": 2
}
