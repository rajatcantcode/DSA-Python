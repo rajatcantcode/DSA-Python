{
 "cells": [
  {
   "cell_type": "code",
   "execution_count": 4,
   "metadata": {},
   "outputs": [
    {
     "name": "stdout",
     "output_type": "stream",
     "text": [
      "[2, 3, 4, 5, 1]\n"
     ]
    }
   ],
   "source": [
    "class Solution:\n",
    "    def rotateArrayByOne(self, nums):\n",
    "        return self.result(nums)\n",
    "    \n",
    "    def result(self,nums):\n",
    "        first = nums[0]\n",
    "        for i in range(len(nums)-1):\n",
    "            nums[i] = nums[i+1]\n",
    "        nums[-1] = first\n",
    "        return nums\n",
    "\n",
    "\n",
    "    # This code will not work because we need to mofify the original array\n",
    "    # def result(self,nums):\n",
    "    #     nums = nums[1:] + nums[:1]\n",
    "    #     return nums\n",
    "\n",
    "# Example usage\n",
    "if __name__ == \"__main__\":\n",
    "    arr = [1, 2, 3, 4, 5]  \n",
    "    sol = Solution()\n",
    "    result = sol.rotateArrayByOne(arr)\n",
    "    print(result)"
   ]
  }
 ],
 "metadata": {
  "kernelspec": {
   "display_name": "venv",
   "language": "python",
   "name": "python3"
  },
  "language_info": {
   "codemirror_mode": {
    "name": "ipython",
    "version": 3
   },
   "file_extension": ".py",
   "mimetype": "text/x-python",
   "name": "python",
   "nbconvert_exporter": "python",
   "pygments_lexer": "ipython3",
   "version": "3.11.7"
  }
 },
 "nbformat": 4,
 "nbformat_minor": 2
}
