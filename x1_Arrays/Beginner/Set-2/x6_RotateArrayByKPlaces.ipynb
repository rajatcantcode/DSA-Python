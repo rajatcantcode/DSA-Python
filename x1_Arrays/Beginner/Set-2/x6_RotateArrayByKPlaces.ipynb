{
 "cells": [
  {
   "cell_type": "code",
   "execution_count": 21,
   "metadata": {},
   "outputs": [
    {
     "name": "stdout",
     "output_type": "stream",
     "text": [
      "[3, 4, 5, 6, 1, 2]\n"
     ]
    }
   ],
   "source": [
    "\n",
    "class Solution:\n",
    "    def rotateArray(self, nums, k):\n",
    "        return self.result(nums,k)\n",
    "    \n",
    "    def result(self,nums,k):\n",
    "        k = k%len(nums)\n",
    "        dummyArr = []\n",
    "        for i in range(k):\n",
    "            dummyArr.append(nums[i])\n",
    "        \n",
    "        for i in range(len(nums)-k):\n",
    "            nums[i] = nums[i+k]\n",
    "\n",
    "        i = 0\n",
    "        while k > 0 :\n",
    "            nums[len(nums)-k]= dummyArr[i]\n",
    "            i+=1\n",
    "            k-=1\n",
    "        \n",
    "        return nums\n",
    "    \n",
    "    # Note : We need to mofify the original array\n",
    "    # def result(self,nums,k):\n",
    "    #     k = k%len(nums)\n",
    "    #     nums = nums[k:] + nums[:k]\n",
    "    #     return nums\n",
    "    \n",
    "# Example usage\n",
    "if __name__ == \"__main__\":\n",
    "    arr = [1, 2, 3, 4, 5, 6]  \n",
    "    k = 2\n",
    "    sol = Solution()\n",
    "    result = sol.rotateArray(arr,k)\n",
    "    print(result)"
   ]
  }
 ],
 "metadata": {
  "kernelspec": {
   "display_name": "venv",
   "language": "python",
   "name": "python3"
  },
  "language_info": {
   "codemirror_mode": {
    "name": "ipython",
    "version": 3
   },
   "file_extension": ".py",
   "mimetype": "text/x-python",
   "name": "python",
   "nbconvert_exporter": "python",
   "pygments_lexer": "ipython3",
   "version": "3.11.7"
  }
 },
 "nbformat": 4,
 "nbformat_minor": 2
}
