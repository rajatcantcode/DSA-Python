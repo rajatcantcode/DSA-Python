{
 "cells": [
  {
   "cell_type": "code",
   "execution_count": 7,
   "metadata": {},
   "outputs": [
    {
     "name": "stdout",
     "output_type": "stream",
     "text": [
      "3\n"
     ]
    }
   ],
   "source": [
    "class Solution:\n",
    "\tdef countOdd(self, arr, n):\n",
    "\t\treturn self.result(arr,n)\n",
    "\tdef result(self,arr,n):\n",
    "\t\tans = []\n",
    "\t\tfor i in range(len(arr)):\n",
    "\t\t\tif (arr[i]%2)!=0:\n",
    "\t\t\t\tans.append(arr[i])\n",
    "\t\treturn len(ans)\n",
    "\t\t\n",
    "\n",
    "# Example usage\n",
    "if __name__ == \"__main__\":\n",
    "    N = 1\n",
    "    arr = [1,2,3,4,5]  # List\n",
    "    sol = Solution()\n",
    "    result = sol.countOdd(arr, N)\n",
    "    print(result)"
   ]
  }
 ],
 "metadata": {
  "kernelspec": {
   "display_name": "venv",
   "language": "python",
   "name": "python3"
  },
  "language_info": {
   "codemirror_mode": {
    "name": "ipython",
    "version": 3
   },
   "file_extension": ".py",
   "mimetype": "text/x-python",
   "name": "python",
   "nbconvert_exporter": "python",
   "pygments_lexer": "ipython3",
   "version": "3.11.7"
  }
 },
 "nbformat": 4,
 "nbformat_minor": 2
}
