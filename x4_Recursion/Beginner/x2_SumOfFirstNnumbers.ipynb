{
 "cells": [
  {
   "cell_type": "code",
   "execution_count": 3,
   "metadata": {},
   "outputs": [
    {
     "name": "stdout",
     "output_type": "stream",
     "text": [
      "55\n"
     ]
    }
   ],
   "source": [
    "class Solution:\n",
    "    def NnumbersSum(self, N):\n",
    "        return self.result(N)\n",
    "    def result(self,n):\n",
    "        if n == 1:\n",
    "            return 1\n",
    "        fn = self.result(n-1) \n",
    "        return n + fn\n",
    "\n",
    "# Example usage\n",
    "if __name__ == \"__main__\":\n",
    "    n = int(10)\n",
    "    sol = Solution()\n",
    "    result = sol.NnumbersSum(n)\n",
    "    print(result)\n"
   ]
  }
 ],
 "metadata": {
  "kernelspec": {
   "display_name": "venv",
   "language": "python",
   "name": "python3"
  },
  "language_info": {
   "codemirror_mode": {
    "name": "ipython",
    "version": 3
   },
   "file_extension": ".py",
   "mimetype": "text/x-python",
   "name": "python",
   "nbconvert_exporter": "python",
   "pygments_lexer": "ipython3",
   "version": "3.11.7"
  }
 },
 "nbformat": 4,
 "nbformat_minor": 2
}
