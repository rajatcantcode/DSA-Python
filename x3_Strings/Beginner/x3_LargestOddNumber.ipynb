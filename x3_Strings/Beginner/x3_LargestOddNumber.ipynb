{
 "cells": [
  {
   "cell_type": "code",
   "execution_count": 20,
   "metadata": {},
   "outputs": [
    {
     "name": "stdout",
     "output_type": "stream",
     "text": [
      "21463\n"
     ]
    }
   ],
   "source": [
    "class Solution:  \n",
    "    def largeOddNum(self, n):\n",
    "        return self.result(n)\n",
    "    \n",
    "    def result(self,n):\n",
    "        odd_numbers = []\n",
    "        for i in range(len(n)):\n",
    "            for j in range(i+1,len(n)+1):\n",
    "                x = int(n[i:j])\n",
    "                if x%2!=0:\n",
    "                    odd_numbers.append(x)\n",
    "\n",
    "        odd_numbers.sort()\n",
    "        return odd_numbers[-1]\n",
    "    \n",
    "# Example usage\n",
    "if __name__ == \"__main__\":\n",
    "    n = \"0214638\"\n",
    "    sol = Solution()\n",
    "    result = sol.largeOddNum(n)\n",
    "    print(result)  "
   ]
  }
 ],
 "metadata": {
  "kernelspec": {
   "display_name": "venv",
   "language": "python",
   "name": "python3"
  },
  "language_info": {
   "codemirror_mode": {
    "name": "ipython",
    "version": 3
   },
   "file_extension": ".py",
   "mimetype": "text/x-python",
   "name": "python",
   "nbconvert_exporter": "python",
   "pygments_lexer": "ipython3",
   "version": "3.11.7"
  }
 },
 "nbformat": 4,
 "nbformat_minor": 2
}
