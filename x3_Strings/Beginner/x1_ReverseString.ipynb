{
 "cells": [
  {
   "cell_type": "code",
   "execution_count": 9,
   "metadata": {},
   "outputs": [
    {
     "name": "stdout",
     "output_type": "stream",
     "text": [
      "[3, 3, 3, 2, 2, 1]\n"
     ]
    }
   ],
   "source": [
    "class Solution: \n",
    "    def reverseString(self, s):\n",
    "        return self.result(s)\n",
    "    def result(self,s):\n",
    "        left = 0\n",
    "        right = len(s) - 1\n",
    "        while left < right:\n",
    "            temp = s[left]\n",
    "            s[left] = s[right]\n",
    "            s[right] = temp\n",
    "            left+=1\n",
    "            right-=1\n",
    "        return s\n",
    "        \n",
    "    \n",
    "# Example usage\n",
    "if __name__ == \"__main__\":\n",
    "    arr = [1, 2, 2, 3, 3, 3]\n",
    "    sol = Solution()\n",
    "    result = sol.reverseString(arr)\n",
    "    print(result)  "
   ]
  }
 ],
 "metadata": {
  "kernelspec": {
   "display_name": "venv",
   "language": "python",
   "name": "python3"
  },
  "language_info": {
   "codemirror_mode": {
    "name": "ipython",
    "version": 3
   },
   "file_extension": ".py",
   "mimetype": "text/x-python",
   "name": "python",
   "nbconvert_exporter": "python",
   "pygments_lexer": "ipython3",
   "version": "3.11.7"
  }
 },
 "nbformat": 4,
 "nbformat_minor": 2
}
