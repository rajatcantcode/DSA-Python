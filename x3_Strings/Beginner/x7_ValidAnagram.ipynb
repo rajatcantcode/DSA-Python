{
 "cells": [
  {
   "cell_type": "code",
   "execution_count": 3,
   "metadata": {},
   "outputs": [
    {
     "name": "stdout",
     "output_type": "stream",
     "text": [
      "True\n"
     ]
    }
   ],
   "source": [
    "class Solution:    \n",
    "    def anagramStrings(self, s, t):\n",
    "        return self.result(s, t)\n",
    "    \n",
    "    def result(self, s, t):\n",
    "        if len(s) != len(t):\n",
    "            return False\n",
    "        \n",
    "        return sorted(s) == sorted(t)\n",
    "\n",
    "# Example usage\n",
    "if __name__ == \"__main__\":\n",
    "    s = \"anagram\"\n",
    "    t = \"nagaram\"\n",
    "    sol = Solution()\n",
    "    result = sol.anagramStrings(s, t)\n",
    "    print(result)\n",
    "\n",
    "# print(ord(\"B\")) # Ascii Value\n",
    "# print(chr(65))  # Convert back to the character"
   ]
  }
 ],
 "metadata": {
  "kernelspec": {
   "display_name": "venv",
   "language": "python",
   "name": "python3"
  },
  "language_info": {
   "codemirror_mode": {
    "name": "ipython",
    "version": 3
   },
   "file_extension": ".py",
   "mimetype": "text/x-python",
   "name": "python",
   "nbconvert_exporter": "python",
   "pygments_lexer": "ipython3",
   "version": "3.11.7"
  }
 },
 "nbformat": 4,
 "nbformat_minor": 2
}
