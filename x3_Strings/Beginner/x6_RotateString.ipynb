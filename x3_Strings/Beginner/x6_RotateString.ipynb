{
 "cells": [
  {
   "cell_type": "code",
   "execution_count": 10,
   "metadata": {},
   "outputs": [
    {
     "name": "stdout",
     "output_type": "stream",
     "text": [
      "False\n"
     ]
    }
   ],
   "source": [
    "class Solution:    \n",
    "    def rotateString(self, str, goal):\n",
    "        return self.result(str,goal)\n",
    "    \n",
    "    def result(self,str,goal):\n",
    "        if len(str) != len(goal):\n",
    "            return False\n",
    "\n",
    "        for i in range(len(str)):\n",
    "            concatenate = str[i:] + str[:i]\n",
    "            if concatenate == goal:\n",
    "                return True\n",
    "        return False\n",
    "        \n",
    "\n",
    "\n",
    "# Example usage\n",
    "if __name__ == \"__main__\":\n",
    "    str = \"abcde\"\n",
    "    goal = \"adeac\"\n",
    "    sol = Solution()\n",
    "    result = sol.rotateString(str,goal)\n",
    "    print(result)\n"
   ]
  }
 ],
 "metadata": {
  "kernelspec": {
   "display_name": "venv",
   "language": "python",
   "name": "python3"
  },
  "language_info": {
   "codemirror_mode": {
    "name": "ipython",
    "version": 3
   },
   "file_extension": ".py",
   "mimetype": "text/x-python",
   "name": "python",
   "nbconvert_exporter": "python",
   "pygments_lexer": "ipython3",
   "version": "3.11.7"
  }
 },
 "nbformat": 4,
 "nbformat_minor": 2
}
