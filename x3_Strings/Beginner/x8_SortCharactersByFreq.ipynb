{
 "cells": [
  {
   "cell_type": "code",
   "execution_count": 25,
   "metadata": {},
   "outputs": [
    {
     "name": "stdout",
     "output_type": "stream",
     "text": [
      "[('a', 4), ('j', 2), ('r', 1)]\n",
      "['a', 'j', 'r']\n"
     ]
    }
   ],
   "source": [
    "class Solution:\n",
    "    def frequencySort(self, s):\n",
    "        return self.result(s)\n",
    "    \n",
    "    def result(self,s):\n",
    "        freqArray = self.countFrequency(s)\n",
    "        # Create a list of tuples (char, frequency)\n",
    "\n",
    "        freq_list = []\n",
    "        for i in range(len(freqArray)) :\n",
    "            if freqArray[i] != 0:\n",
    "                freq_list.append((chr(i + 97), freqArray[i]))\n",
    "\n",
    "        # print(freq_list) # [('e', 2), ('r', 1), ('t', 1)]\n",
    "        \n",
    "        # First, sort alphabetically (in case of tie in frequency)\n",
    "        freq_list.sort(key=lambda x: x[0])\n",
    "        # print(freq_list) # [('e', 2), ('r', 1), ('t', 1)]\n",
    "\n",
    "        # Then, sort by frequency in descending order\n",
    "        freq_list.sort(key=lambda x: x[1], reverse=True)\n",
    "        # print(freq_list) # [('e', 2), ('r', 1), ('t', 1)]\n",
    "\n",
    "        # Extract only the characters from freq_list\n",
    "        alphabet_list = [x[0] for x in freq_list]\n",
    "\n",
    "        # Return the alphabet list\n",
    "        return alphabet_list\n",
    "    \n",
    "    def countFrequency(self,s):\n",
    "        arrSize = self.highestAlphabet(s)\n",
    "        arrSize+=1\n",
    "        array = [0]*(arrSize - 97)\n",
    "\n",
    "        for i in range(len(s)):\n",
    "            array[(ord(s[i])-97)]+=1\n",
    "\n",
    "        return array\n",
    "    \n",
    "    def highestAlphabet(self,s):\n",
    "        x = -1\n",
    "        for i in range(len(s)):\n",
    "            if ord(s[i]) > x:\n",
    "                x = ord(s[i])\n",
    "        return x\n",
    "\n",
    "\n",
    "# Example usage\n",
    "if __name__ == \"__main__\":\n",
    "    s = \"raaaajj\"\n",
    "    sol = Solution()\n",
    "    result = sol.frequencySort(s)\n",
    "    print(result)\n",
    "\n",
    "# print(ord(\"B\")) # Ascii Value - a - 97\n",
    "# print(chr(65))  # Convert back to the character"
   ]
  }
 ],
 "metadata": {
  "kernelspec": {
   "display_name": "venv",
   "language": "python",
   "name": "python3"
  },
  "language_info": {
   "codemirror_mode": {
    "name": "ipython",
    "version": 3
   },
   "file_extension": ".py",
   "mimetype": "text/x-python",
   "name": "python",
   "nbconvert_exporter": "python",
   "pygments_lexer": "ipython3",
   "version": "3.11.7"
  }
 },
 "nbformat": 4,
 "nbformat_minor": 2
}
