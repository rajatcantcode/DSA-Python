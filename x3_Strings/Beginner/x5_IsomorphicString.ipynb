{
 "cells": [
  {
   "cell_type": "code",
   "execution_count": 21,
   "metadata": {},
   "outputs": [
    {
     "name": "stdout",
     "output_type": "stream",
     "text": [
      "False\n"
     ]
    }
   ],
   "source": [
    "class Solution:\n",
    "    def isomorphicString(self, str1, str2):\n",
    "        return self.result(str1,str2)\n",
    "    \n",
    "    def result(self,str1,str2):\n",
    "        # Edge Case\n",
    "        if len(str1) != len(str2):\n",
    "            return False\n",
    "\n",
    "        array1,array2 = self.freqLetters(str1,str2)\n",
    "        array1 = self.removeZeroAndSort(array1)\n",
    "        array2 = self.removeZeroAndSort(array2)\n",
    "\n",
    "        if array1 == array2:\n",
    "            return True\n",
    "        else :\n",
    "            return False\n",
    "\n",
    "\n",
    "    def removeZeroAndSort(self,str):\n",
    "        newArray = []\n",
    "        for i in range(len(str)):\n",
    "            if str[i] != 0:\n",
    "                newArray.append(str[i])\n",
    "        return newArray\n",
    "        \n",
    "\n",
    "\n",
    "    def freqLetters(self,str1,str2):\n",
    "        biggest1 = self.biggestLetter(str1)\n",
    "        biggest2 = self.biggestLetter(str2)\n",
    "\n",
    "        biggest1 += 1\n",
    "        biggest2 += 1\n",
    "\n",
    "        newArray1 = [0]*(biggest1-97)\n",
    "        newArray2 = [0]*(biggest2-97)\n",
    "        \n",
    "        for i in range(len(str1)):\n",
    "            newArray1[(ord(str1[i])-97)] += 1\n",
    "\n",
    "        for j in range(len(str2)):\n",
    "            newArray2[(ord(str2[j])-97)] += 1\n",
    "        \n",
    "        return newArray1,newArray2\n",
    "    \n",
    "    \n",
    "    def biggestLetter(self,str):\n",
    "        x = -1\n",
    "        for i in range(len(str)):\n",
    "            if x < ord(str[i]):\n",
    "                x = ord(str[i])\n",
    "        return x\n",
    "        \n",
    "\n",
    "\n",
    "# Example usage\n",
    "if __name__ == \"__main__\":\n",
    "    str1 = \"paper\"\n",
    "    str2 = \"bbnbm\"\n",
    "    sol = Solution()\n",
    "    result = sol.isomorphicString(str1,str2)\n",
    "    print(result)\n",
    "\n",
    "# print(ord(\"B\")) # Ascii Value - 97 - a\n",
    "# print(chr(65))  # Convert back to the character"
   ]
  }
 ],
 "metadata": {
  "kernelspec": {
   "display_name": "venv",
   "language": "python",
   "name": "python3"
  },
  "language_info": {
   "codemirror_mode": {
    "name": "ipython",
    "version": 3
   },
   "file_extension": ".py",
   "mimetype": "text/x-python",
   "name": "python",
   "nbconvert_exporter": "python",
   "pygments_lexer": "ipython3",
   "version": "3.11.7"
  }
 },
 "nbformat": 4,
 "nbformat_minor": 2
}
