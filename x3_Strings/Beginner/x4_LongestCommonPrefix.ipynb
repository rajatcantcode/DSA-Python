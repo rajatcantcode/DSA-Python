{
 "cells": [
  {
   "cell_type": "code",
   "execution_count": 40,
   "metadata": {},
   "outputs": [
    {
     "name": "stdout",
     "output_type": "stream",
     "text": [
      "x\n",
      "x\n",
      "fl\n"
     ]
    }
   ],
   "source": [
    "class Solution:  \n",
    "    def longestCommonPrefix(self, strs):\n",
    "        return self.result(strs)\n",
    "    \n",
    "    def result(self, strs):\n",
    "        if not strs:\n",
    "            return \"\"\n",
    "        \n",
    "        x = self.shortestWordIndex(strs)\n",
    "        shortestWord = strs[x]\n",
    "\n",
    "        commonPrefix = \"\"\n",
    "\n",
    "        for i in range(len(shortestWord)):\n",
    "            currentChar = shortestWord[i]\n",
    "            \n",
    "            for j in range(len(strs)): # Looping through the array\n",
    "                if strs[j][i] != currentChar: # Looping through the word with only first 3 letters\n",
    "                    return commonPrefix\n",
    "            \n",
    "            commonPrefix += currentChar\n",
    "\n",
    "        return commonPrefix\n",
    "            \n",
    "\n",
    "    def shortestWordIndex(self,str):\n",
    "        x = len(str[0])\n",
    "        index = 0\n",
    "        for i in range(1,len(str)):\n",
    "            if x > len(str[i]):\n",
    "                x = len(str[i])\n",
    "                index = i\n",
    "        return index\n",
    "\n",
    "\n",
    "\n",
    "\n",
    "# Example usage\n",
    "if __name__ == \"__main__\":\n",
    "    s = [\"flowers\" , \"flow\" , \"fly\", \"flight\"]\n",
    "    sol = Solution()\n",
    "    result = sol.longestCommonPrefix(s)\n",
    "    print(result)"
   ]
  },
  {
   "cell_type": "code",
   "execution_count": 36,
   "metadata": {},
   "outputs": [
    {
     "name": "stdout",
     "output_type": "stream",
     "text": [
      "Rajat\n",
      "Sharma\n"
     ]
    }
   ],
   "source": [
    "str = [\"Rajat\",\"Sharma\"]\n",
    "\n",
    "for i in range(len(str)):\n",
    "    print(str[i])"
   ]
  }
 ],
 "metadata": {
  "kernelspec": {
   "display_name": "venv",
   "language": "python",
   "name": "python3"
  },
  "language_info": {
   "codemirror_mode": {
    "name": "ipython",
    "version": 3
   },
   "file_extension": ".py",
   "mimetype": "text/x-python",
   "name": "python",
   "nbconvert_exporter": "python",
   "pygments_lexer": "ipython3",
   "version": "3.11.7"
  }
 },
 "nbformat": 4,
 "nbformat_minor": 2
}
