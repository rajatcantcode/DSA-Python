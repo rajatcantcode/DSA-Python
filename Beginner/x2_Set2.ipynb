{
 "cells": [
  {
   "cell_type": "code",
   "execution_count": 9,
   "metadata": {},
   "outputs": [],
   "source": [
    "class Solution:\n",
    "    def countDigit(self, n):\n",
    "        self.counter(n)\n",
    "    \n",
    "    def counter(self,n):\n",
    "        #Edge case for number 0\n",
    "        if n == 0:\n",
    "            return 1\n",
    "        \n",
    "        counter = 0\n",
    "        while(not n==0):\n",
    "            x = n%10\n",
    "            counter = counter + 1\n",
    "            n = n // 10\n",
    "        \n",
    "        return counter\n",
    "        \n",
    "\n",
    "# Example usage\n",
    "if __name__ == \"__main__\":\n",
    "    N = 0\n",
    "    sol = Solution()\n",
    "    sol.countDigit(N)\n",
    "\n",
    "\n",
    "\n"
   ]
  }
 ],
 "metadata": {
  "kernelspec": {
   "display_name": "venv",
   "language": "python",
   "name": "python3"
  },
  "language_info": {
   "codemirror_mode": {
    "name": "ipython",
    "version": 3
   },
   "file_extension": ".py",
   "mimetype": "text/x-python",
   "name": "python",
   "nbconvert_exporter": "python",
   "pygments_lexer": "ipython3",
   "version": "3.11.7"
  }
 },
 "nbformat": 4,
 "nbformat_minor": 2
}
