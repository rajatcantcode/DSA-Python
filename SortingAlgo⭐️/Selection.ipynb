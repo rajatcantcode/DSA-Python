{
 "cells": [
  {
   "cell_type": "code",
   "execution_count": 4,
   "metadata": {},
   "outputs": [
    {
     "name": "stdout",
     "output_type": "stream",
     "text": [
      "[1, 2, 3, 4, 5]\n"
     ]
    }
   ],
   "source": [
    "class Solution:\n",
    "    def selectionSort(self, nums):\n",
    "        return self.result(nums)\n",
    "    \n",
    "    def result(self,nums):\n",
    "        for i in range(len(nums)):\n",
    "            min_pos = i\n",
    "            for j in range(i+1,len(nums)):\n",
    "                if nums[j]<nums[min_pos]:\n",
    "                    min_pos = j\n",
    "            # Swap\n",
    "            temp = nums[min_pos]\n",
    "            nums[min_pos] = nums[i]\n",
    "            nums[i] = temp\n",
    "        return nums\n",
    "\n",
    "\n",
    "# Example usage\n",
    "if __name__ == \"__main__\":\n",
    "    arr = [5,4,1,3,2]\n",
    "    sol = Solution()\n",
    "    result = sol.selectionSort(arr)\n",
    "    print(result)"
   ]
  }
 ],
 "metadata": {
  "kernelspec": {
   "display_name": "venv",
   "language": "python",
   "name": "python3"
  },
  "language_info": {
   "codemirror_mode": {
    "name": "ipython",
    "version": 3
   },
   "file_extension": ".py",
   "mimetype": "text/x-python",
   "name": "python",
   "nbconvert_exporter": "python",
   "pygments_lexer": "ipython3",
   "version": "3.11.7"
  }
 },
 "nbformat": 4,
 "nbformat_minor": 2
}
