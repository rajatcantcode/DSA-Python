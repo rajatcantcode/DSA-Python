{
 "cells": [
  {
   "cell_type": "code",
   "execution_count": 2,
   "metadata": {},
   "outputs": [
    {
     "name": "stdout",
     "output_type": "stream",
     "text": [
      "[7, 3, 1, 15, 7, 1]\n",
      "[7, 3, 1, 15, 7, 1]\n",
      "[7, 3, 1, 15, 7, 1]\n",
      "[7, 3, 1, 15, 7, 1]\n",
      "[7, 3, 1, 15, 7, 1]\n",
      "[1, 1, 3, 7, 7, 15]\n"
     ]
    }
   ],
   "source": [
    "# TODO : Explain this well\n",
    "class Solution:\n",
    "    def mergeSort(self, nums):\n",
    "        if len(nums) <= 1:\n",
    "            return nums\n",
    "\n",
    "        low = 0\n",
    "        high = len(nums) - 1\n",
    "        return self.result(nums, low, high)\n",
    "    \n",
    "    def result(self, nums, low, high):\n",
    "        # Base case: if there's only one element, return it\n",
    "        if low == high:\n",
    "            return [nums[low]]\n",
    "        \n",
    "        # Find the middle point to divide the array\n",
    "        mid = (low + high) // 2\n",
    "        \n",
    "        # print(nums)\n",
    "        \n",
    "        # Recursively sort both halves\n",
    "        first_half = self.result(nums, low, mid)\n",
    "        second_half = self.result(nums, mid + 1, high)\n",
    "        \n",
    "        # Merge the sorted halves\n",
    "        return self.mergeTwoSortedArrays(first_half, second_half)\n",
    "    \n",
    "    def mergeTwoSortedArrays(self, arr1, arr2):\n",
    "        n = len(arr1)\n",
    "        m = len(arr2)\n",
    "        merged_array = []\n",
    "        i = j = 0\n",
    "\n",
    "        # Merge the two sorted arrays\n",
    "        while i < n and j < m:\n",
    "            if arr1[i] <= arr2[j]:\n",
    "                merged_array.append(arr1[i])\n",
    "                i += 1\n",
    "            else:\n",
    "                merged_array.append(arr2[j])\n",
    "                j += 1\n",
    "        \n",
    "        # Add any remaining elements from both arrays\n",
    "        while i < n:\n",
    "            merged_array.append(arr1[i])\n",
    "            i += 1\n",
    "        \n",
    "        while j < m:\n",
    "            merged_array.append(arr2[j])\n",
    "            j += 1\n",
    "        \n",
    "        return merged_array\n",
    "\n",
    "\n",
    "# Example usage\n",
    "if __name__ == \"__main__\":\n",
    "    arr = [7, 3, 1, 15, 7, 1]\n",
    "    sol = Solution()\n",
    "    result = sol.mergeSort(arr)\n",
    "    print(result)\n"
   ]
  }
 ],
 "metadata": {
  "kernelspec": {
   "display_name": "venv",
   "language": "python",
   "name": "python3"
  },
  "language_info": {
   "codemirror_mode": {
    "name": "ipython",
    "version": 3
   },
   "file_extension": ".py",
   "mimetype": "text/x-python",
   "name": "python",
   "nbconvert_exporter": "python",
   "pygments_lexer": "ipython3",
   "version": "3.11.7"
  }
 },
 "nbformat": 4,
 "nbformat_minor": 2
}
