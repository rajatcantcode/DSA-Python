{
 "cells": [
  {
   "cell_type": "code",
   "execution_count": 9,
   "metadata": {},
   "outputs": [
    {
     "name": "stdout",
     "output_type": "stream",
     "text": [
      " \n",
      " \n",
      " \n",
      " \n",
      " \n",
      "[1, 2, 3, 4, 5]\n"
     ]
    }
   ],
   "source": [
    "class Solution:\n",
    "    def bubbleSort(self, nums):\n",
    "        return self.result(nums)\n",
    "\n",
    "    def result(self, nums):\n",
    "        # Number of turns\n",
    "        for i in range(len(nums)):\n",
    "            # Bubble Sort Algorithm\n",
    "            for j in range(len(nums) - 1):\n",
    "                # print(nums)\n",
    "                if nums[j] > nums[j + 1]:\n",
    "                    # Swap elements\n",
    "                    temp = nums[j]\n",
    "                    nums[j] = nums[j + 1]\n",
    "                    nums[j + 1] = temp\n",
    "            print(' ')\n",
    "        return nums\n",
    "        \n",
    "# Example usage\n",
    "if __name__ == \"__main__\":\n",
    "    arr = [5,4,1,3,2]\n",
    "    sol = Solution()\n",
    "    result = sol.bubbleSort(arr)\n",
    "    print(result)"
   ]
  }
 ],
 "metadata": {
  "kernelspec": {
   "display_name": "venv",
   "language": "python",
   "name": "python3"
  },
  "language_info": {
   "codemirror_mode": {
    "name": "ipython",
    "version": 3
   },
   "file_extension": ".py",
   "mimetype": "text/x-python",
   "name": "python",
   "nbconvert_exporter": "python",
   "pygments_lexer": "ipython3",
   "version": "3.11.7"
  }
 },
 "nbformat": 4,
 "nbformat_minor": 2
}
