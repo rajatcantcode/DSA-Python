{
 "cells": [
  {
   "cell_type": "code",
   "execution_count": 22,
   "metadata": {},
   "outputs": [
    {
     "name": "stdout",
     "output_type": "stream",
     "text": [
      "[1, 2, 3, 4, 5]\n"
     ]
    }
   ],
   "source": [
    "class Solution:\n",
    "    def bubbleSort(self, nums):\n",
    "        return self.result(nums)\n",
    "\n",
    "    def result(self, nums):\n",
    "        n = len(nums)\n",
    "        # Number of turns\n",
    "        for turns in range(n):\n",
    "            swapped = False  # Flag to detect any swap\n",
    "            \n",
    "            # Bubble Sort Algorithm\n",
    "            for i in range(n - 1 - turns):  # Optimize: Reduce range each turn\n",
    "                # print(nums)\n",
    "                if nums[i] > nums[i + 1]:\n",
    "                    # Swap elements\n",
    "                    nums[i], nums[i + 1] = nums[i + 1], nums[i]  # Pythonic swap\n",
    "                    swapped = True  # Set the flag if a swap occurred\n",
    "            # print(\" \")\n",
    "            if not swapped:  # If no swaps occurred, the list is sorted\n",
    "                break\n",
    "            \n",
    "        return nums\n",
    "        \n",
    "# Example usage\n",
    "if __name__ == \"__main__\":\n",
    "    arr = [5,4,1,3,2]\n",
    "    sol = Solution()\n",
    "    result = sol.bubbleSort(arr)\n",
    "    print(result)"
   ]
  },
  {
   "cell_type": "markdown",
   "metadata": {},
   "source": [
    "**DRY RUN**    \n",
    "\n",
    "<img src=\"../assets/SortingAlgo/BubbleSort/bubble-1.jpeg\" alt=\"Bubble-Note-1\" width=\"450\"/>      \n",
    "<img src=\"../assets/SortingAlgo/BubbleSort/bubble-2.jpeg\" alt=\"Bubble-Note-2\" width=\"450\"/>    "
   ]
  }
 ],
 "metadata": {
  "kernelspec": {
   "display_name": "venv",
   "language": "python",
   "name": "python3"
  },
  "language_info": {
   "codemirror_mode": {
    "name": "ipython",
    "version": 3
   },
   "file_extension": ".py",
   "mimetype": "text/x-python",
   "name": "python",
   "nbconvert_exporter": "python",
   "pygments_lexer": "ipython3",
   "version": "3.11.7"
  }
 },
 "nbformat": 4,
 "nbformat_minor": 2
}
