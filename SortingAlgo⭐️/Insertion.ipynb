{
 "cells": [
  {
   "cell_type": "code",
   "execution_count": 2,
   "metadata": {},
   "outputs": [
    {
     "name": "stdout",
     "output_type": "stream",
     "text": [
      "[2, 4, 6, 7, 1] 3\n",
      "[2, 4, 6, 7, 7] 2\n",
      "[2, 4, 6, 6, 7] 1\n",
      "[2, 4, 4, 6, 7] 0\n",
      "[1, 2, 4, 6, 7]\n"
     ]
    }
   ],
   "source": [
    "# Build up to Insertion Sort to make it easier to understand\n",
    "# Task: Sorted array [2, 4, 5, 6, 7 , 1] except the last element - '1'\n",
    "\n",
    "class Solution:\n",
    "    def insertingXInSortedArray(self, nums):\n",
    "        return self.result(nums)\n",
    "    \n",
    "    def result(self,nums):\n",
    "        item = nums[len(nums)-1]\n",
    "        i = len(nums) - 2\n",
    "        while i >= 0 and nums[i] >= item:\n",
    "            print(nums,i)\n",
    "            nums[i+1] = nums[i]\n",
    "            i -= 1\n",
    "        i+=1 \n",
    "        nums[i] = item\n",
    "        return nums\n",
    "\n",
    "\n",
    "# Example usage\n",
    "if __name__ == \"__main__\":\n",
    "    arr = [2,4,6,7,1]\n",
    "    sol = Solution()\n",
    "    result = sol.insertingXInSortedArray(arr)\n",
    "    print(result)"
   ]
  },
  {
   "cell_type": "code",
   "execution_count": 5,
   "metadata": {},
   "outputs": [
    {
     "name": "stdout",
     "output_type": "stream",
     "text": [
      "[1, 3, 4, 5, 7]\n"
     ]
    }
   ],
   "source": [
    "class Solution:\n",
    "    def insertionSort(self, nums):\n",
    "        return self.result(nums)\n",
    "    \n",
    "    def result(self,nums):\n",
    "        for i in range(len(nums)):\n",
    "            self.insertPosition(nums,i)\n",
    "        return nums\n",
    "\n",
    "    def insertPosition(self,nums,j):\n",
    "        item = nums[j]\n",
    "        i = j - 1\n",
    "        while i >= 0 and nums[i] >= item:\n",
    "            nums[i+1] = nums[i]\n",
    "            i-=1\n",
    "        i+=1\n",
    "        nums[i] = item\n",
    "        \n",
    "\n",
    "\n",
    "# Example usage\n",
    "if __name__ == \"__main__\":\n",
    "    arr = [7, 4, 1, 5, 3]\n",
    "    sol = Solution()\n",
    "    result = sol.insertionSort(arr)\n",
    "    print(result)"
   ]
  }
 ],
 "metadata": {
  "kernelspec": {
   "display_name": "venv",
   "language": "python",
   "name": "python3"
  },
  "language_info": {
   "codemirror_mode": {
    "name": "ipython",
    "version": 3
   },
   "file_extension": ".py",
   "mimetype": "text/x-python",
   "name": "python",
   "nbconvert_exporter": "python",
   "pygments_lexer": "ipython3",
   "version": "3.11.7"
  }
 },
 "nbformat": 4,
 "nbformat_minor": 2
}
